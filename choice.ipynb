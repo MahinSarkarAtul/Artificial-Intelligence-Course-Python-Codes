{
 "cells": [
  {
   "cell_type": "code",
   "execution_count": 1,
   "id": "92a86409-f2bd-4b4d-89c2-2329c5ebd898",
   "metadata": {},
   "outputs": [
    {
     "name": "stdout",
     "output_type": "stream",
     "text": [
      "A\n"
     ]
    }
   ],
   "source": [
    "import random\n",
    "choice=[\"A\",\"B\",\"C\"]\n",
    "element=random.choice(choice)\n",
    "print(element)"
   ]
  },
  {
   "cell_type": "code",
   "execution_count": null,
   "id": "4a9fe264-8bda-4c58-927c-2a7ec3479aaf",
   "metadata": {},
   "outputs": [],
   "source": [
    "import random\n",
    "choice=[\"A\",\"B\",\"C\"]\n",
    "element=random.choice(choice)\n",
    "dna=''\n",
    "for i in range(100):\n",
    "    dna=dna+\n",
    "print(element)"
   ]
  }
 ],
 "metadata": {
  "kernelspec": {
   "display_name": "Python 3 (ipykernel)",
   "language": "python",
   "name": "python3"
  },
  "language_info": {
   "codemirror_mode": {
    "name": "ipython",
    "version": 3
   },
   "file_extension": ".py",
   "mimetype": "text/x-python",
   "name": "python",
   "nbconvert_exporter": "python",
   "pygments_lexer": "ipython3",
   "version": "3.12.4"
  }
 },
 "nbformat": 4,
 "nbformat_minor": 5
}
