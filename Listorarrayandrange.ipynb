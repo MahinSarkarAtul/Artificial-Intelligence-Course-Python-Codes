{
 "cells": [
  {
   "cell_type": "code",
   "execution_count": 5,
   "id": "4875f520-f679-480e-99ec-4271b3164f0f",
   "metadata": {},
   "outputs": [
    {
     "name": "stdout",
     "output_type": "stream",
     "text": [
      "0\n",
      "1\n",
      "2\n",
      "3\n"
     ]
    }
   ],
   "source": [
    "x=range(0,4) # 0 to 3 here 4 is excluded\n",
    "for i in x:\n",
    "    print(i)"
   ]
  },
  {
   "cell_type": "code",
   "execution_count": 20,
   "id": "45ed1a80-8283-416d-8ab0-617c5d9ec264",
   "metadata": {},
   "outputs": [
    {
     "name": "stdout",
     "output_type": "stream",
     "text": [
      "0 1 2 3 \n",
      "\n",
      "5 6 7 8 \n",
      "\n",
      "3 5 7 9 11 13 15 17 19 \n",
      "\n"
     ]
    }
   ],
   "source": [
    "x=range(4) # always starts from 0 by default\n",
    "for i in x:\n",
    "    print(i,end=\" \")\n",
    "print(\"\\n\")\n",
    "y=range(5,9)\n",
    "for i in y:\n",
    "    print(i,end=\" \")\n",
    "print(\"\\n\")\n",
    "r=range(3,20,2) # increment by 2\n",
    "for i in r:\n",
    "    print(i,end=\" \")\n",
    "print(\"\\n\")\n",
    "r=range(3,20,-2) # increment by 2\n",
    "for i in r:\n",
    "    print(i,end=\" \")\n",
    "\n"
   ]
  },
  {
   "cell_type": "code",
   "execution_count": 41,
   "id": "a15333b5-2ca9-4fe0-bb16-f0b8873b44e2",
   "metadata": {},
   "outputs": [
    {
     "name": "stdout",
     "output_type": "stream",
     "text": [
      "20 18 16 14 12 10 8 6 4 "
     ]
    }
   ],
   "source": [
    "r=range(20,3,-2) # decrement by 2\n",
    "for i in r:\n",
    "    print(i,end=\" \")"
   ]
  },
  {
   "cell_type": "code",
   "execution_count": 42,
   "id": "71e36211-7f45-4749-93ff-ae9cd6980ab0",
   "metadata": {},
   "outputs": [],
   "source": [
    "# list can store multiple data type and values are changable\n",
    "\n",
    "\n"
   ]
  },
  {
   "cell_type": "code",
   "execution_count": 26,
   "id": "8c25d458-cc58-4ab6-8988-64c27c6975a9",
   "metadata": {},
   "outputs": [
    {
     "name": "stdout",
     "output_type": "stream",
     "text": [
      "['My', 10, 'Hello']\n",
      "My 10 Hello "
     ]
    }
   ],
   "source": [
    "#Lists are used to store multiple items in a single variable.\n",
    "list1=[\"My\",10,\"Hello\"]\n",
    "print(list1)\n",
    "for i in list1:\n",
    "    print(i, end=\" \") # 1st appraoch\n",
    "\n"
   ]
  },
  {
   "cell_type": "code",
   "execution_count": 30,
   "id": "bf7c0bff-70e1-4d3e-98f2-d559c4944597",
   "metadata": {},
   "outputs": [
    {
     "name": "stdout",
     "output_type": "stream",
     "text": [
      "My 10 Hello "
     ]
    }
   ],
   "source": [
    "list1=[\"My\",10,\"Hello\"] # 2nd approch\n",
    "for i in range(len(list1)):\n",
    "    print(list1[i], end=\" \") # 2nd approach"
   ]
  },
  {
   "cell_type": "code",
   "execution_count": 36,
   "id": "05d2824c-c5ab-43c7-aeb0-2ef47c2e4ee2",
   "metadata": {},
   "outputs": [
    {
     "name": "stdout",
     "output_type": "stream",
     "text": [
      "My\n",
      "Mahin\n"
     ]
    }
   ],
   "source": [
    "#modify list\n",
    "list1=[\"My\",10,\"Hello\"]\n",
    "print(list1[0])\n",
    "list1[0]=\"Mahin\"\n",
    "print(list1[0])"
   ]
  },
  {
   "cell_type": "code",
   "execution_count": 37,
   "id": "be46a9c6-8cba-47cb-9370-cbfee00b960a",
   "metadata": {},
   "outputs": [
    {
     "name": "stdout",
     "output_type": "stream",
     "text": [
      "4\n",
      "Mahin 12 Mahin 12 "
     ]
    }
   ],
   "source": [
    "li=[\"Mahin\", 12,\"Mahin\", 12] # allows multiple same values \n",
    "print(len(li))\n",
    "for i in li:\n",
    "    print(i,end=\" \")"
   ]
  },
  {
   "cell_type": "code",
   "execution_count": 1,
   "id": "8d44389c-2a33-4bd6-a4b7-349e856ce95f",
   "metadata": {},
   "outputs": [
    {
     "name": "stdout",
     "output_type": "stream",
     "text": [
      "Mahin 10 Atul "
     ]
    }
   ],
   "source": [
    "# list create by the list() contructor\n",
    "list1=list((\"Mahin\",10,\"Atul\"))\n",
    "for i in list1:\n",
    "    print(i, end=\" \")"
   ]
  },
  {
   "cell_type": "code",
   "execution_count": 2,
   "id": "edfc9b04-ca33-426c-ac89-9e744866912b",
   "metadata": {},
   "outputs": [
    {
     "name": "stdout",
     "output_type": "stream",
     "text": [
      "True\n"
     ]
    }
   ],
   "source": [
    "#Access list iteams\n",
    "li=[\"Hello\",10,\"Hi\",True]\n",
    "print(li[3])"
   ]
  },
  {
   "cell_type": "code",
   "execution_count": 5,
   "id": "fc564893-b7c5-4847-9b2f-b895edb8fef3",
   "metadata": {},
   "outputs": [
    {
     "name": "stdout",
     "output_type": "stream",
     "text": [
      "6\n",
      "orange\n",
      "['apple', 'orange']\n"
     ]
    }
   ],
   "source": [
    "# Negative Indexing: means indexing start from the end\n",
    "# Normally it starts from the o index\n",
    "li=[1,2,3,4,5,6]\n",
    "print(li[-1])\n",
    "lis=[\"apple\",\"orange\",\"banana\"]\n",
    "print(lis[-2])\n",
    "print(lis[0:2])# range where the right value is always excluded and starts from the 0 index"
   ]
  },
  {
   "cell_type": "code",
   "execution_count": 6,
   "id": "9a08c8a3-d80e-41e5-b1b4-85afdaa158c5",
   "metadata": {},
   "outputs": [
    {
     "name": "stdout",
     "output_type": "stream",
     "text": [
      "['cherry', 'orange', 'kiwi', 'melon', 'mango']\n"
     ]
    }
   ],
   "source": [
    "thislist = [\"apple\", \"banana\", \"cherry\", \"orange\", \"kiwi\", \"melon\", \"mango\"]\n",
    "print(thislist[2:])"
   ]
  },
  {
   "cell_type": "code",
   "execution_count": 9,
   "id": "f6d3e100-c8a0-47f8-bf9f-26a402f78a81",
   "metadata": {},
   "outputs": [
    {
     "name": "stdout",
     "output_type": "stream",
     "text": [
      "['orange', 'kiwi', 'melon']\n",
      "\n"
     ]
    }
   ],
   "source": [
    "# range of neagitve index\n",
    "llis=[\"apple\",\"banana\",\"cherry\",\"orange\",\"kiwi\",\"melon\",\"mango\"]\n",
    "print(llis[-4:-1])\n",
    "print()"
   ]
  },
  {
   "cell_type": "code",
   "execution_count": 15,
   "id": "f3e5a2f4-7f75-46c5-a86d-b6617d174cd1",
   "metadata": {},
   "outputs": [
    {
     "name": "stdout",
     "output_type": "stream",
     "text": [
      "Yes exsist\n",
      "Yes exsist apple exsist\n",
      "Apple not exsist\n"
     ]
    }
   ],
   "source": [
    "#check items in the list i have tryed these\n",
    "lis=[\"apple\",\"banana\",\"cherry\",\"melon\"]\n",
    "if lis[0]==\"apple\" in lis:\n",
    "    print(\"Yes exsist\")\n",
    "#2nd approach \n",
    "lis=[\"apple\",\"banana\",\"cherry\",\"melon\"]\n",
    "if \"apple\" in lis:\n",
    "    print(\"Yes exsist apple exsist\")\n",
    "lis=[\"apple\",\"banana\",\"cherry\",\"melon\"]\n",
    "if \"Apple\" in lis:\n",
    "    print(\"Yes exsist apple exsist\")\n",
    "\n",
    "else:\n",
    "    print(\"Apple not exsist\")"
   ]
  },
  {
   "cell_type": "code",
   "execution_count": 19,
   "id": "401beaaa-c539-4fcb-abf1-19edefbcbbc6",
   "metadata": {},
   "outputs": [
    {
     "name": "stdout",
     "output_type": "stream",
     "text": [
      "apple banana cherry melon \n",
      "\n",
      "Apple banana cherry melon "
     ]
    }
   ],
   "source": [
    "#change value item in list\n",
    "lis=[\"apple\",\"banana\",\"cherry\",\"melon\"]\n",
    "for i in range(len(lis)):\n",
    "    print(lis[i],end=\" \")\n",
    "print(\"\\n\")\n",
    "lis[0]=\"Apple\"\n",
    "for i in range(len(lis)):\n",
    "    print(lis[i],end=\" \")"
   ]
  },
  {
   "cell_type": "code",
   "execution_count": 21,
   "id": "0ae68bd8-2d84-4438-b1af-77c191bcce91",
   "metadata": {},
   "outputs": [
    {
     "name": "stdout",
     "output_type": "stream",
     "text": [
      "['apple', 'banana', 'cherry', 'melon']\n",
      "['Apple', 'Banana', 'cherry', 'melon']\n"
     ]
    }
   ],
   "source": [
    "# change range of item\n",
    "lis=[\"apple\",\"banana\",\"cherry\",\"melon\"]\n",
    "print(lis)\n",
    "lis[0:2]=[\"Apple\",\"Banana\"]\n",
    "print(lis)\n"
   ]
  },
  {
   "cell_type": "code",
   "execution_count": 22,
   "id": "bcc6c0bc-a6db-419b-98d9-3a25c46b1a69",
   "metadata": {},
   "outputs": [
    {
     "name": "stdout",
     "output_type": "stream",
     "text": [
      "['apple', 'banana', 'cherry', 'melon']\n",
      "['Apple', 'cherry', 'melon']\n"
     ]
    }
   ],
   "source": [
    "lis=[\"apple\",\"banana\",\"cherry\",\"melon\"]\n",
    "print(lis)\n",
    "lis[0:2]=[\"Apple\"] #Change the second and third value by replacing it with one value:\n",
    "print(lis)"
   ]
  },
  {
   "cell_type": "code",
   "execution_count": 23,
   "id": "36af9fbe-6aaa-41c9-a2ab-7da7d5ad2598",
   "metadata": {},
   "outputs": [
    {
     "name": "stdout",
     "output_type": "stream",
     "text": [
      "['apple', 'watermelon']\n"
     ]
    }
   ],
   "source": [
    "thislist = [\"apple\", \"banana\", \"cherry\"]\n",
    "thislist[1:3] = [\"watermelon\"] #Change the second and third value by replacing it with one value:\n",
    "print(lis)\n",
    "print(thislist)"
   ]
  },
  {
   "cell_type": "code",
   "execution_count": 25,
   "id": "2e09274d-f82b-4c2b-a7eb-6a494e63f2f3",
   "metadata": {},
   "outputs": [
    {
     "name": "stdout",
     "output_type": "stream",
     "text": [
      "['apple', 'orange', 'banana', 'cherry']\n"
     ]
    }
   ],
   "source": [
    "# insert value\n",
    "thislist = [\"apple\", \"banana\", \"cherry\"]\n",
    "thislist.insert(1,\"orange\")\n",
    "print(thislist)"
   ]
  },
  {
   "cell_type": "code",
   "execution_count": 28,
   "id": "6da6b626-4c7d-422c-86d6-548d4f3faa1a",
   "metadata": {},
   "outputs": [
    {
     "name": "stdout",
     "output_type": "stream",
     "text": [
      "['apple', 'banana', 'cherry', 'orange']\n"
     ]
    }
   ],
   "source": [
    "# add list item in the last\n",
    "thislist = [\"apple\", \"banana\", \"cherry\"]\n",
    "thislist.append(\"orange\")\n",
    "print(thislist)"
   ]
  },
  {
   "cell_type": "code",
   "execution_count": 30,
   "id": "23b231c8-744d-4047-b735-3273cd355811",
   "metadata": {},
   "outputs": [
    {
     "name": "stdout",
     "output_type": "stream",
     "text": [
      "['My', 'name', 'is', 'Mahin']\n"
     ]
    }
   ],
   "source": [
    "#To append elements from another list to the current list, use the extend() method.\n",
    "getcopy=[\"My\",\"name\"]\n",
    "copy=[\"is\",\"Mahin\"]\n",
    "getcopy.extend(copy)\n",
    "print(getcopy)"
   ]
  },
  {
   "cell_type": "code",
   "execution_count": 33,
   "id": "a8b117dd-390e-4967-9cb5-8a004745b158",
   "metadata": {},
   "outputs": [
    {
     "name": "stdout",
     "output_type": "stream",
     "text": [
      "['My', 'name', 'is', 'Mahin']\n"
     ]
    }
   ],
   "source": [
    "#The extend() method does not have to append lists, you can add any iterable object (tuples, sets, dictionaries etc.).\n",
    "getcopy=[\"My\",\"name\"]\n",
    "copy=(\"is\",\"Mahin\")\n",
    "getcopy.extend(copy)\n",
    "print(getcopy)"
   ]
  },
  {
   "cell_type": "code",
   "execution_count": 37,
   "id": "211ce803-0c70-429d-8a04-42733ce72264",
   "metadata": {},
   "outputs": [
    {
     "name": "stdout",
     "output_type": "stream",
     "text": [
      "['banana', 'cherry', 'melon']\n",
      "['banana', 'cherry', 'melon']\n"
     ]
    }
   ],
   "source": [
    "#Remove list item\n",
    "lis=[\"apple\",\"banana\",\"cherry\",\"melon\"]\n",
    "lis.remove(lis[0])#by index\n",
    "print(lis)\n",
    "lis=[\"apple\",\"banana\",\"cherry\",\"melon\"]\n",
    "lis.remove(\"apple\")# by value\n",
    "print(lis)"
   ]
  },
  {
   "cell_type": "code",
   "execution_count": 40,
   "id": "9afe0e6d-5a5e-4d2c-b26d-6b8465df8d3e",
   "metadata": {},
   "outputs": [
    {
     "name": "stdout",
     "output_type": "stream",
     "text": [
      "['banana', 'apple', 'cherry', 'melon']\n"
     ]
    }
   ],
   "source": [
    "# as list can store multiple same values it so by remove method it will only remove only the first value\n",
    "lis=[\"apple\",\"banana\",\"apple\",\"cherry\",\"melon\"]\n",
    "lis.remove(\"apple\")\n",
    "print(lis)\n"
   ]
  },
  {
   "cell_type": "code",
   "execution_count": 46,
   "id": "be2fc779-001a-4789-b53c-22720841a0f6",
   "metadata": {},
   "outputs": [
    {
     "name": "stdout",
     "output_type": "stream",
     "text": [
      "['banana', 'cherry', 'melon']\n",
      "['banana', 'cherry', 'melon']\n",
      "['apple', 'banana', 'cherry']\n"
     ]
    },
    {
     "data": {
      "text/plain": [
       "'lis=[\"apple\",\"banana\",\"cherry\",\"melon\"]\\nlis.remove(len(lis))\\nprint(lis)\\n'"
      ]
     },
     "execution_count": 46,
     "metadata": {},
     "output_type": "execute_result"
    }
   ],
   "source": [
    "# remove specifc index\\\n",
    "lis=[\"apple\",\"banana\",\"cherry\",\"melon\"]\n",
    "lis.remove(lis[0])#by index\n",
    "# by pop method\n",
    "print(lis)\n",
    "lis=[\"apple\",\"banana\",\"cherry\",\"melon\"]\n",
    "lis.pop(0)\n",
    "print(lis)\n",
    "# remove the last item\n",
    "lis=[\"apple\",\"banana\",\"cherry\",\"melon\"]\n",
    "lis.pop()\n",
    "print(lis)\n",
    "'''lis=[\"apple\",\"banana\",\"cherry\",\"melon\"]\n",
    "lis.remove(len(lis))\n",
    "print(lis)\n",
    "'''"
   ]
  },
  {
   "cell_type": "code",
   "execution_count": 47,
   "id": "e84a2823-3707-47e6-983b-878fa89830ef",
   "metadata": {},
   "outputs": [
    {
     "name": "stdout",
     "output_type": "stream",
     "text": [
      "['banana', 'cherry']\n"
     ]
    }
   ],
   "source": [
    "#The del keyword also removes the specified index:\n",
    "thislist = [\"apple\", \"banana\", \"cherry\"]\n",
    "del thislist[0]\n",
    "print(thislist)\n"
   ]
  },
  {
   "cell_type": "code",
   "execution_count": 48,
   "id": "edac8452-c88f-49e1-86f8-d0651e4ff51c",
   "metadata": {},
   "outputs": [
    {
     "name": "stdout",
     "output_type": "stream",
     "text": [
      "[]\n"
     ]
    }
   ],
   "source": [
    "#The clear() method empties the list.\n",
    "\n",
    "# The list still remains, but it has no content.\n",
    "\n",
    "lis=[1,2,3,4]\n",
    "lis.clear()\n",
    "print(lis)"
   ]
  },
  {
   "cell_type": "code",
   "execution_count": 56,
   "id": "e03f13c8-6d85-4603-a4b0-2666e740cb46",
   "metadata": {},
   "outputs": [
    {
     "name": "stdout",
     "output_type": "stream",
     "text": [
      "apple banana cherry \n",
      "\n",
      "apple banana cherry \n",
      "\n",
      "1 2 3 \n",
      "\n"
     ]
    }
   ],
   "source": [
    "# using loop and range\n",
    "#for loop\n",
    "thislist = [\"apple\", \"banana\", \"cherry\"]\n",
    "for x in thislist:\n",
    "    print(x, end=\" \")\n",
    "print(\"\\n\")\n",
    "    \n",
    "thislist = [\"apple\", \"banana\", \"cherry\"]\n",
    "for i in range(len(thislist)):\n",
    "  print(thislist[i], end=\" \")\n",
    "print(\"\\n\")\n",
    "# while loop\n",
    "lis=[1,2,3]\n",
    "i=0\n",
    "while i<len(lis):\n",
    "    print(lis[i], end=\" \")\n",
    "    i=i+1\n",
    "print(\"\\n\")"
   ]
  },
  {
   "cell_type": "code",
   "execution_count": 58,
   "id": "0046c258-3039-4705-b584-fdbba7152084",
   "metadata": {},
   "outputs": [
    {
     "name": "stdout",
     "output_type": "stream",
     "text": [
      "[]\n",
      "['apple', 'orange', 'banana']\n"
     ]
    }
   ],
   "source": [
    "#List comprehension offers a shorter syntax when you want to create a new list based on the values of an existing list.\n",
    "fruits=[\"apple\",\"orange\",\"banana\"]\n",
    "new=[]\n",
    "print(new)\n",
    "for x in fruits: # FOR COPYING\n",
    "    new.append(x)\n",
    "print(new)"
   ]
  },
  {
   "cell_type": "code",
   "execution_count": 62,
   "id": "6456f846-8d99-4101-94c2-4c5520f4ede7",
   "metadata": {},
   "outputs": [
    {
     "name": "stdout",
     "output_type": "stream",
     "text": [
      "['apple']\n"
     ]
    }
   ],
   "source": [
    "fruits = [\"apple\", \"banana\", \"cherry\", \"kiwi\", \"mangoy\"]\n",
    "newlist = []\n",
    "\n",
    "for x in fruits:\n",
    "  if \"apple\" in x: # filter the value and then store it\n",
    "    newlist.append(x)\n",
    "\n",
    "print(newlist)"
   ]
  },
  {
   "cell_type": "code",
   "execution_count": 65,
   "id": "44c1e760-447f-4a1b-bd93-8375d1ca0925",
   "metadata": {},
   "outputs": [
    {
     "name": "stdout",
     "output_type": "stream",
     "text": [
      "['apple', 'banana', 'cherry', 'kiwi', 'mango']\n",
      "['apple', 'banana', 'mango']\n"
     ]
    }
   ],
   "source": [
    "fruits = [\"apple\", \"banana\", \"cherry\", \"kiwi\", \"mango\"]\n",
    "\n",
    "newlist = [x for x in fruits ]\n",
    "\n",
    "print(newlist)\n",
    "# by filtering some specific values\n",
    "fruits = [\"apple\", \"banana\", \"cherry\", \"kiwi\", \"mango\"]\n",
    "\n",
    "newlist = [x for x in fruits if \"a\" in x ]\n",
    "\n",
    "print(newlist)"
   ]
  },
  {
   "cell_type": "code",
   "execution_count": 68,
   "id": "90e1a933-459d-4db7-90ee-80dfe9e7fa8d",
   "metadata": {},
   "outputs": [
    {
     "name": "stdout",
     "output_type": "stream",
     "text": [
      "False\n",
      "True\n",
      "True\n"
     ]
    }
   ],
   "source": [
    "x=\"my name is Mahin\"\n",
    "print(\"mahin\" in x)\n",
    "print(\"M\" in x)\n",
    "print(\"Mahin\" in x)"
   ]
  },
  {
   "cell_type": "code",
   "execution_count": 69,
   "id": "f9058005-4644-499f-98cd-f40dea89bdf0",
   "metadata": {},
   "outputs": [
    {
     "name": "stdout",
     "output_type": "stream",
     "text": [
      "['apple', 'orange', 'kiwi', 'banana']\n",
      "['apple', 'banana', 'kiwi', 'orange']\n"
     ]
    }
   ],
   "source": [
    "#sort list Sort List Alphanumerically\n",
    "this=[\"apple\",\"orange\",\"kiwi\",\"banana\"]\n",
    "print(this)\n",
    "this.sort()\n",
    "print(this)"
   ]
  },
  {
   "cell_type": "code",
   "execution_count": 77,
   "id": "626d962d-ea13-4d22-a07c-01a262cf486c",
   "metadata": {},
   "outputs": [
    {
     "name": "stdout",
     "output_type": "stream",
     "text": [
      "[23, 50, 65, 82, 100]\n",
      "[100, 82, 65, 50, 23]\n"
     ]
    }
   ],
   "source": [
    "#Sort the list numerically:\n",
    "thislist = [100, 50, 65, 82, 23]\n",
    "thislist.sort()\n",
    "print(thislist)\n",
    "thislist.sort(reverse=True)\n",
    "print(thislist)"
   ]
  },
  {
   "cell_type": "code",
   "execution_count": 75,
   "id": "01620306-579e-43b2-b0b3-91c9da535e1a",
   "metadata": {},
   "outputs": [
    {
     "name": "stdout",
     "output_type": "stream",
     "text": [
      "['apple', 'orange', 'kiwi', 'banana']\n",
      "['apple', 'banana', 'kiwi', 'orange']\n",
      "['orange', 'kiwi', 'banana', 'apple']\n",
      "[100, 82, 65, 50, 23]\n"
     ]
    }
   ],
   "source": [
    "# To sort descending, use the keyword argument reverse = True:\n",
    "\n",
    "this=[\"apple\",\"orange\",\"kiwi\",\"banana\"]\n",
    "print(this)\n",
    "this.sort()\n",
    "print(this)\n",
    "this.sort(reverse=True)\n",
    "print(this)\n",
    "\n",
    "# for number\n",
    "thislist = [100, 50, 65, 82, 23]\n",
    "thislist.sort(reverse=True)\n",
    "print(thislist)"
   ]
  },
  {
   "cell_type": "code",
   "execution_count": 78,
   "id": "3a662867-f08e-4674-80bf-363f17257e7e",
   "metadata": {},
   "outputs": [
    {
     "name": "stdout",
     "output_type": "stream",
     "text": [
      "[50, 65, 23, 82, 100]\n"
     ]
    }
   ],
   "source": [
    "# Sort the list based on how close the number is to 50:\n",
    "def myfunc(n):\n",
    "  return abs(n - 50)\n",
    "\n",
    "thislist = [100, 50, 65, 82, 23]\n",
    "thislist.sort(key = myfunc)\n",
    "print(thislist)"
   ]
  },
  {
   "cell_type": "code",
   "execution_count": 82,
   "id": "c138a5db-7d4f-4859-8c4e-201d12665858",
   "metadata": {},
   "outputs": [
    {
     "name": "stdout",
     "output_type": "stream",
     "text": [
      "['Kiwi', 'Orange', 'banana', 'cherry']\n",
      "['banana', 'cherry', 'kiwi', 'orange']\n",
      "['banana', 'cherry', 'Kiwi', 'Orange']\n"
     ]
    }
   ],
   "source": [
    "# Case Insensitive Sort can give unexpected result\n",
    "thislist = [\"banana\", \"Orange\", \"Kiwi\", \"cherry\"]\n",
    "thislist.sort()\n",
    "print(thislist)\n",
    "thislist = [\"banana\", \"orange\", \"kiwi\", \"cherry\"]\n",
    "thislist.sort()\n",
    "print(thislist)\n",
    "\n",
    "# solution\n",
    "thislist = [\"banana\", \"Orange\", \"Kiwi\", \"cherry\"]\n",
    "thislist.sort(key = str.lower)\n",
    "print(thislist)"
   ]
  },
  {
   "cell_type": "code",
   "execution_count": 84,
   "id": "787fe3ee-386e-4220-b3c9-fe9893789f63",
   "metadata": {},
   "outputs": [
    {
     "name": "stdout",
     "output_type": "stream",
     "text": [
      "MY NAME IS ATUL\n",
      "my name is atul\n"
     ]
    }
   ],
   "source": [
    "sr=\"My name is Atul\"\n",
    "print(sr.upper())\n",
    "print(sr.lower())"
   ]
  },
  {
   "cell_type": "code",
   "execution_count": 87,
   "id": "1babe9b3-7bf2-46db-9391-1a18d647e97d",
   "metadata": {},
   "outputs": [
    {
     "name": "stdout",
     "output_type": "stream",
     "text": [
      "['cherry', 'Kiwi', 'Orange', 'banana']\n",
      "[30, 0, 10]\n"
     ]
    }
   ],
   "source": [
    "# just reverse the values\n",
    "thislist = [\"banana\", \"Orange\", \"Kiwi\", \"cherry\"]\n",
    "thislist.reverse()\n",
    "print(thislist)\n",
    "sr=[10,0,30]\n",
    "sr.reverse()\n",
    "print(sr)"
   ]
  },
  {
   "cell_type": "code",
   "execution_count": 3,
   "id": "0157dcd0-f2d5-4eb2-a348-ed7d1984a45b",
   "metadata": {},
   "outputs": [
    {
     "name": "stdout",
     "output_type": "stream",
     "text": [
      "['banana', 'Orange', 'Kiwi', 'cherry']\n",
      "<class 'list'>\n"
     ]
    }
   ],
   "source": [
    "# copy list\n",
    "thislist = [\"banana\", \"Orange\", \"Kiwi\", \"cherry\"]\n",
    "mylist=thislist.copy()\n",
    "print(mylist)\n",
    "print(type(mylist))"
   ]
  },
  {
   "cell_type": "code",
   "execution_count": 5,
   "id": "48569112-736b-4dd2-b794-e42c5d0afee5",
   "metadata": {},
   "outputs": [
    {
     "name": "stdout",
     "output_type": "stream",
     "text": [
      "['banana', 'Orange', 'Kiwi', 'cherry']\n",
      "<class 'list'>\n"
     ]
    }
   ],
   "source": [
    "# copy list by list() method\n",
    "thislist = [\"banana\", \"Orange\", \"Kiwi\", \"cherry\"]\n",
    "mylist=list(thislist)\n",
    "print(mylist)\n",
    "print(type(mylist))"
   ]
  },
  {
   "cell_type": "code",
   "execution_count": 8,
   "id": "bd3142e7-e2fb-4f4a-833b-5d76b816c856",
   "metadata": {},
   "outputs": [
    {
     "name": "stdout",
     "output_type": "stream",
     "text": [
      "['banana', 'Orange', 'Kiwi', 'cherry']\n",
      "<class 'list'>\n"
     ]
    }
   ],
   "source": [
    "#Make a copy of a list with the : operator:\n",
    "thislist = [\"banana\", \"Orange\", \"Kiwi\", \"cherry\"]\n",
    "mylist=thislist[:]\n",
    "print(mylist)\n",
    "print(type(mylist))"
   ]
  },
  {
   "cell_type": "code",
   "execution_count": 10,
   "id": "6a279392-4c7f-4f5d-8b69-7c939dbc5e51",
   "metadata": {},
   "outputs": [
    {
     "name": "stdout",
     "output_type": "stream",
     "text": [
      "['a', 'b', 'c', 1, 2, 3]\n",
      "[1, 2, 3, 'a', 'b', 'c']\n"
     ]
    }
   ],
   "source": [
    "# join list\n",
    "list1 = [\"a\", \"b\", \"c\"]\n",
    "list2 = [1, 2, 3]\n",
    "\n",
    "list3 = list1 + list2\n",
    "print(list3)\n",
    "list4=list2+list1\n",
    "print(list4)"
   ]
  },
  {
   "cell_type": "code",
   "execution_count": 11,
   "id": "8024f909-3f3e-4d37-907f-5f6ef40448ca",
   "metadata": {},
   "outputs": [
    {
     "name": "stdout",
     "output_type": "stream",
     "text": [
      "['a', 'b', 'c', 1, 2, 3]\n"
     ]
    }
   ],
   "source": [
    "# Another way to join two lists is by appending all the items from list2 into list1, one by one:\n",
    "list1 = [\"a\", \"b\", \"c\"]\n",
    "list2 = [1, 2, 3]\n",
    "for x in list2:\n",
    "    list1.append(x)\n",
    "print(list1)"
   ]
  },
  {
   "cell_type": "code",
   "execution_count": 12,
   "id": "d36ba7bb-7462-4142-89fd-c3621050fd24",
   "metadata": {},
   "outputs": [
    {
     "name": "stdout",
     "output_type": "stream",
     "text": [
      "['a', 'b', 'c', 1, 2, 3]\n"
     ]
    }
   ],
   "source": [
    "#\n",
    "list1 = [\"a\", \"b\", \"c\"]\n",
    "list2 = [1, 2, 3]\n",
    "list1.extend(list2)\n",
    "print(list1)"
   ]
  },
  {
   "cell_type": "code",
   "execution_count": null,
   "id": "823c0a9e-a63e-486a-a010-f19088c655e3",
   "metadata": {},
   "outputs": [],
   "source": [
    "#list methods"
   ]
  }
 ],
 "metadata": {
  "kernelspec": {
   "display_name": "Python 3 (ipykernel)",
   "language": "python",
   "name": "python3"
  },
  "language_info": {
   "codemirror_mode": {
    "name": "ipython",
    "version": 3
   },
   "file_extension": ".py",
   "mimetype": "text/x-python",
   "name": "python",
   "nbconvert_exporter": "python",
   "pygments_lexer": "ipython3",
   "version": "3.12.4"
  }
 },
 "nbformat": 4,
 "nbformat_minor": 5
}
