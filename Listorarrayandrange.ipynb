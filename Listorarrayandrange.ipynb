{
 "cells": [
  {
   "cell_type": "code",
   "execution_count": 5,
   "id": "4875f520-f679-480e-99ec-4271b3164f0f",
   "metadata": {},
   "outputs": [
    {
     "name": "stdout",
     "output_type": "stream",
     "text": [
      "0\n",
      "1\n",
      "2\n",
      "3\n"
     ]
    }
   ],
   "source": [
    "x=range(0,4)\n",
    "for i in x:\n",
    "    print(i)"
   ]
  },
  {
   "cell_type": "code",
   "execution_count": 20,
   "id": "45ed1a80-8283-416d-8ab0-617c5d9ec264",
   "metadata": {},
   "outputs": [
    {
     "name": "stdout",
     "output_type": "stream",
     "text": [
      "0 1 2 3 \n",
      "\n",
      "5 6 7 8 \n",
      "\n",
      "3 5 7 9 11 13 15 17 19 \n",
      "\n"
     ]
    }
   ],
   "source": [
    "x=range(4) # always starts from 0 by default\n",
    "for i in x:\n",
    "    print(i,end=\" \")\n",
    "print(\"\\n\")\n",
    "y=range(5,9)\n",
    "for i in y:\n",
    "    print(i,end=\" \")\n",
    "print(\"\\n\")\n",
    "r=range(3,20,2) # increment by 2\n",
    "for i in r:\n",
    "    print(i,end=\" \")\n",
    "print(\"\\n\")\n",
    "r=range(3,20,-2) # increment by 2\n",
    "for i in r:\n",
    "    print(i,end=\" \")\n",
    "\n"
   ]
  },
  {
   "cell_type": "code",
   "execution_count": 41,
   "id": "a15333b5-2ca9-4fe0-bb16-f0b8873b44e2",
   "metadata": {},
   "outputs": [
    {
     "name": "stdout",
     "output_type": "stream",
     "text": [
      "20 18 16 14 12 10 8 6 4 "
     ]
    }
   ],
   "source": [
    "r=range(20,3,-2) # decrement by 2\n",
    "for i in r:\n",
    "    print(i,end=\" \")"
   ]
  },
  {
   "cell_type": "code",
   "execution_count": 42,
   "id": "71e36211-7f45-4749-93ff-ae9cd6980ab0",
   "metadata": {},
   "outputs": [],
   "source": [
    "# list can store multiple data type and values are changable\n",
    "\n",
    "\n"
   ]
  },
  {
   "cell_type": "code",
   "execution_count": 26,
   "id": "8c25d458-cc58-4ab6-8988-64c27c6975a9",
   "metadata": {},
   "outputs": [
    {
     "name": "stdout",
     "output_type": "stream",
     "text": [
      "['My', 10, 'Hello']\n",
      "My 10 Hello "
     ]
    }
   ],
   "source": [
    "#Lists are used to store multiple items in a single variable.\n",
    "list1=[\"My\",10,\"Hello\"]\n",
    "print(list1)\n",
    "for i in list1:\n",
    "    print(i, end=\" \") # 1st appraoch\n",
    "\n"
   ]
  },
  {
   "cell_type": "code",
   "execution_count": 30,
   "id": "bf7c0bff-70e1-4d3e-98f2-d559c4944597",
   "metadata": {},
   "outputs": [
    {
     "name": "stdout",
     "output_type": "stream",
     "text": [
      "My 10 Hello "
     ]
    }
   ],
   "source": [
    "list1=[\"My\",10,\"Hello\"]\n",
    "for i in range(len(list1)):\n",
    "    print(list1[i], end=\" \") # 2nd approach"
   ]
  },
  {
   "cell_type": "code",
   "execution_count": 36,
   "id": "05d2824c-c5ab-43c7-aeb0-2ef47c2e4ee2",
   "metadata": {},
   "outputs": [
    {
     "name": "stdout",
     "output_type": "stream",
     "text": [
      "My\n",
      "Mahin\n"
     ]
    }
   ],
   "source": [
    "#modify list\n",
    "list1=[\"My\",10,\"Hello\"]\n",
    "print(list1[0])\n",
    "list1[0]=\"Mahin\"\n",
    "print(list1[0])"
   ]
  },
  {
   "cell_type": "code",
   "execution_count": 37,
   "id": "be46a9c6-8cba-47cb-9370-cbfee00b960a",
   "metadata": {},
   "outputs": [
    {
     "name": "stdout",
     "output_type": "stream",
     "text": [
      "4\n",
      "Mahin 12 Mahin 12 "
     ]
    }
   ],
   "source": [
    "li=[\"Mahin\", 12,\"Mahin\", 12] # allow \n",
    "print(len(li))\n",
    "for i in li:\n",
    "    print(i,end=\" \")"
   ]
  },
  {
   "cell_type": "code",
   "execution_count": 40,
   "id": "8d44389c-2a33-4bd6-a4b7-349e856ce95f",
   "metadata": {},
   "outputs": [
    {
     "name": "stdout",
     "output_type": "stream",
     "text": [
      "Mahin\n",
      "10\n",
      "Atul\n"
     ]
    }
   ],
   "source": [
    "# list create by the list() contructor\n",
    "list1=list((\"Mahin\",10,\"Atul\"))\n",
    "for i in list1:\n",
    "    print(i)"
   ]
  },
  {
   "cell_type": "code",
   "execution_count": null,
   "id": "edfc9b04-ca33-426c-ac89-9e744866912b",
   "metadata": {},
   "outputs": [],
   "source": []
  }
 ],
 "metadata": {
  "kernelspec": {
   "display_name": "Python 3 (ipykernel)",
   "language": "python",
   "name": "python3"
  },
  "language_info": {
   "codemirror_mode": {
    "name": "ipython",
    "version": 3
   },
   "file_extension": ".py",
   "mimetype": "text/x-python",
   "name": "python",
   "nbconvert_exporter": "python",
   "pygments_lexer": "ipython3",
   "version": "3.12.4"
  }
 },
 "nbformat": 4,
 "nbformat_minor": 5
}
