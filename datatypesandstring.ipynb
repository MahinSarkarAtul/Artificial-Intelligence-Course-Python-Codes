{
 "cells": [
  {
   "cell_type": "code",
   "execution_count": null,
   "id": "a9ecaddc-f81d-4896-bc3e-506076db2e55",
   "metadata": {},
   "outputs": [],
   "source": [
    "#built in data types\n",
    "'''\n",
    "Text Type:\t     str\n",
    "Numeric Types:\t int, float, complex\n",
    "Sequence Types:\t list, tuple, range\n",
    "Mapping Type:\t dict\n",
    "Set Types:\t     set, frozenset\n",
    "Boolean Type:\t bool\n",
    "Binary Types:\t bytes, bytearray, memoryview\n",
    "None Type:\t     NoneType\n",
    "'''\n"
   ]
  },
  {
   "cell_type": "code",
   "execution_count": 1,
   "id": "899609d8-8a33-4a11-b159-f0bdd8529b60",
   "metadata": {},
   "outputs": [
    {
     "name": "stdout",
     "output_type": "stream",
     "text": [
      "<class 'int'>\n"
     ]
    }
   ],
   "source": [
    "x=5\n",
    "print(type(x))"
   ]
  },
  {
   "cell_type": "code",
   "execution_count": 3,
   "id": "182347e5-acb5-4edb-9785-ae16836b117e",
   "metadata": {},
   "outputs": [
    {
     "name": "stdout",
     "output_type": "stream",
     "text": [
      "<class 'complex'>\n"
     ]
    }
   ],
   "source": [
    "x=3+2j\n",
    "print(type(x))"
   ]
  },
  {
   "cell_type": "code",
   "execution_count": 4,
   "id": "90bebc5d-fc78-4fd7-9500-843fddb0e6cf",
   "metadata": {},
   "outputs": [
    {
     "name": "stdout",
     "output_type": "stream",
     "text": [
      "<class 'int'>\n",
      "<class 'int'>\n",
      "<class 'int'>\n"
     ]
    }
   ],
   "source": [
    "x = 1\n",
    "y = 35656222554887711\n",
    "z = -3255522\n",
    "\n",
    "print(type(x))\n",
    "print(type(y))\n",
    "print(type(z))"
   ]
  },
  {
   "cell_type": "code",
   "execution_count": 5,
   "id": "d36ace24-a4bb-41e0-8f77-18855e294227",
   "metadata": {},
   "outputs": [
    {
     "name": "stdout",
     "output_type": "stream",
     "text": [
      "<class 'float'>\n"
     ]
    }
   ],
   "source": [
    "y=10E2\n",
    "print(type(y))"
   ]
  },
  {
   "cell_type": "code",
   "execution_count": 6,
   "id": "2e2b98db-5567-4575-af6e-32116a40cc88",
   "metadata": {},
   "outputs": [
    {
     "name": "stdout",
     "output_type": "stream",
     "text": [
      "1.0\n",
      "2\n",
      "(1+0j)\n",
      "<class 'float'>\n",
      "<class 'int'>\n",
      "<class 'complex'>\n"
     ]
    }
   ],
   "source": [
    "x = 1    # int\n",
    "y = 2.8  # float\n",
    "z = 1j   # complex\n",
    "\n",
    "#convert from int to float:\n",
    "a = float(x)\n",
    "\n",
    "#convert from float to int:\n",
    "b = int(y)\n",
    "\n",
    "#convert from int to complex:\n",
    "c = complex(x)\n",
    "\n",
    "print(a)\n",
    "print(b)\n",
    "print(c)\n",
    "\n",
    "print(type(a))\n",
    "print(type(b))\n",
    "print(type(c))"
   ]
  },
  {
   "cell_type": "code",
   "execution_count": 8,
   "id": "9485c611-a2d4-419d-bec5-64ca4bd0928e",
   "metadata": {},
   "outputs": [
    {
     "name": "stdout",
     "output_type": "stream",
     "text": [
      "4\n",
      "(4+0j)\n",
      "<class 'int'>\n",
      "<class 'complex'>\n"
     ]
    }
   ],
   "source": [
    "x=4\n",
    "a=complex(x)\n",
    "print(x)\n",
    "print(a)\n",
    "print(type(x))\n",
    "print(type(a))"
   ]
  },
  {
   "cell_type": "code",
   "execution_count": 9,
   "id": "e26996f7-99b2-4bd5-a880-f417adcb5c28",
   "metadata": {},
   "outputs": [
    {
     "ename": "TypeError",
     "evalue": "float() argument must be a string or a real number, not 'complex'",
     "output_type": "error",
     "traceback": [
      "\u001b[1;31m---------------------------------------------------------------------------\u001b[0m",
      "\u001b[1;31mTypeError\u001b[0m                                 Traceback (most recent call last)",
      "Cell \u001b[1;32mIn[9], line 2\u001b[0m\n\u001b[0;32m      1\u001b[0m x\u001b[38;5;241m=\u001b[39m\u001b[38;5;241m4\u001b[39mj\n\u001b[1;32m----> 2\u001b[0m a\u001b[38;5;241m=\u001b[39m\u001b[38;5;28mfloat\u001b[39m(x)\n",
      "\u001b[1;31mTypeError\u001b[0m: float() argument must be a string or a real number, not 'complex'"
     ]
    }
   ],
   "source": [
    "x=4j\n",
    "a=float(x)"
   ]
  },
  {
   "cell_type": "code",
   "execution_count": 16,
   "id": "6d89b62c-2bdc-4571-aa3d-a344549c21a5",
   "metadata": {},
   "outputs": [
    {
     "name": "stdout",
     "output_type": "stream",
     "text": [
      "1\n"
     ]
    }
   ],
   "source": [
    "# Random number\n",
    "import random\n",
    "print(random.randrange(1,10))"
   ]
  },
  {
   "cell_type": "code",
   "execution_count": 31,
   "id": "e34809b4-d5f3-40ce-8c61-64fdc8290272",
   "metadata": {},
   "outputs": [
    {
     "name": "stdout",
     "output_type": "stream",
     "text": [
      "39.0\n",
      "2.8\n",
      "1.0\n",
      "1234\n",
      "39\n"
     ]
    }
   ],
   "source": [
    "#casting \n",
    "a=\"39\"\n",
    "x=float(a)\n",
    "print(x)\n",
    "z=float(2.8)\n",
    "print(z)\n",
    "v=float(1)\n",
    "print(v)\n",
    "\n",
    "r=int(1234.67)\n",
    "print(r)\n",
    "t=int(\"39\")#3.90 showa error\n",
    "print(t)"
   ]
  },
  {
   "cell_type": "code",
   "execution_count": 34,
   "id": "f4f49b07-4d8d-4fab-95a1-b00e1944d476",
   "metadata": {},
   "outputs": [
    {
     "ename": "ValueError",
     "evalue": "invalid literal for int() with base 10: '30.30'",
     "output_type": "error",
     "traceback": [
      "\u001b[1;31m---------------------------------------------------------------------------\u001b[0m",
      "\u001b[1;31mValueError\u001b[0m                                Traceback (most recent call last)",
      "Cell \u001b[1;32mIn[34], line 1\u001b[0m\n\u001b[1;32m----> 1\u001b[0m r\u001b[38;5;241m=\u001b[39m\u001b[38;5;28mint\u001b[39m(\u001b[38;5;124m\"\u001b[39m\u001b[38;5;124m30.30\u001b[39m\u001b[38;5;124m\"\u001b[39m)\u001b[38;5;66;03m# int() works with whole number\u001b[39;00m\n\u001b[0;32m      2\u001b[0m \u001b[38;5;28mprint\u001b[39m(r)\n\u001b[0;32m      3\u001b[0m t\u001b[38;5;241m=\u001b[39m\u001b[38;5;28mint\u001b[39m(\u001b[38;5;124m\"\u001b[39m\u001b[38;5;124m39\u001b[39m\u001b[38;5;124m\"\u001b[39m)\u001b[38;5;66;03m#3.90 showa error\u001b[39;00m\n",
      "\u001b[1;31mValueError\u001b[0m: invalid literal for int() with base 10: '30.30'"
     ]
    }
   ],
   "source": [
    "r=int(\"30.30\")# int() works with whole number\n",
    "print(r)\n",
    "t=int(\"39\")#3.90 showa error\n",
    "print(t)"
   ]
  },
  {
   "cell_type": "code",
   "execution_count": 35,
   "id": "5e330a45-e6c7-4d34-931e-162d2bb81472",
   "metadata": {},
   "outputs": [
    {
     "name": "stdout",
     "output_type": "stream",
     "text": [
      "30\n"
     ]
    }
   ],
   "source": [
    "r = int(float(\"30.30\")) # float contains only numeric string values only . and e/E is \n",
    "print(r)"
   ]
  },
  {
   "cell_type": "code",
   "execution_count": 37,
   "id": "21a9bbad-8586-44b0-ba79-25231a1b7485",
   "metadata": {},
   "outputs": [
    {
     "name": "stdout",
     "output_type": "stream",
     "text": [
      "10000.0\n"
     ]
    }
   ],
   "source": [
    " r=float(\"10E3\")\n",
    "print(r)"
   ]
  },
  {
   "cell_type": "code",
   "execution_count": 43,
   "id": "dc4212e8-7940-4d2d-8823-887c11dc82c5",
   "metadata": {},
   "outputs": [
    {
     "name": "stdout",
     "output_type": "stream",
     "text": [
      "(2+4j)\n",
      "s1\n",
      "3.0\n"
     ]
    },
    {
     "ename": "TypeError",
     "evalue": "'z' is an invalid keyword argument for print()",
     "output_type": "error",
     "traceback": [
      "\u001b[1;31m---------------------------------------------------------------------------\u001b[0m",
      "\u001b[1;31mTypeError\u001b[0m                                 Traceback (most recent call last)",
      "Cell \u001b[1;32mIn[43], line 10\u001b[0m\n\u001b[0;32m      8\u001b[0m \u001b[38;5;28mprint\u001b[39m(x)\n\u001b[0;32m      9\u001b[0m \u001b[38;5;28mprint\u001b[39m(z)\n\u001b[1;32m---> 10\u001b[0m \u001b[38;5;28mprint\u001b[39m(z\u001b[38;5;241m=\u001b[39m\u001b[38;5;28mstr\u001b[39m(\u001b[38;5;241m2\u001b[39mj))\n",
      "\u001b[1;31mTypeError\u001b[0m: 'z' is an invalid keyword argument for print()"
     ]
    }
   ],
   "source": [
    "# string conversion\n",
    "x = str(\"s1\") # x will be 's1'\n",
    "y = str(2)    # y will be '2'\n",
    "z = str(3.0)  # z will be '3.0'\n",
    "q=2+4j\n",
    "w=str(q)\n",
    "print(w)\n",
    "print(x)\n",
    "print(z)\n",
    "print(z=str(2j))"
   ]
  },
  {
   "cell_type": "code",
   "execution_count": 45,
   "id": "1cbf2226-b02d-482c-8801-780dfab6e338",
   "metadata": {},
   "outputs": [
    {
     "name": "stdout",
     "output_type": "stream",
     "text": [
      "HI\n",
      "HI\n"
     ]
    }
   ],
   "source": [
    "# string \"HI\" and 'HI' are the same\n",
    "print(\"HI\")\n",
    "print('HI')"
   ]
  },
  {
   "cell_type": "code",
   "execution_count": 50,
   "id": "8e5c8827-2014-496a-8380-e22723178a80",
   "metadata": {},
   "outputs": [
    {
     "name": "stdout",
     "output_type": "stream",
     "text": [
      "It's alright\n",
      "He is called 'Mahin'\n",
      "He is called \"Mahin\"\n"
     ]
    }
   ],
   "source": [
    "print(\"It's alright\")\n",
    "print(\"He is called 'Mahin'\")\n",
    "print('He is called \"Mahin\"')\n",
    "#print(\"My name\"is\" \")\n",
    "#print('My name'is' ')"
   ]
  },
  {
   "cell_type": "code",
   "execution_count": 54,
   "id": "4b777d60-db51-4af1-819e-95d1cba341dd",
   "metadata": {},
   "outputs": [
    {
     "name": "stdout",
     "output_type": "stream",
     "text": [
      "My name is atul ,\n",
      "i am a student\n",
      "\n",
      "hi there what,\n",
      "seriously00\n"
     ]
    }
   ],
   "source": [
    "#print multiline in string variable\n",
    "x=\"\"\"My name is atul ,\n",
    "i am a student\n",
    "\"\"\"\n",
    "print(x)\n",
    "\n",
    "y='''hi there what,\n",
    "seriously00'''\n",
    "print(y)"
   ]
  },
  {
   "cell_type": "code",
   "execution_count": 67,
   "id": "88fa623a-bdd2-421c-b7e5-e2059b28d0bc",
   "metadata": {},
   "outputs": [
    {
     "name": "stdout",
     "output_type": "stream",
     "text": [
      "M\n",
      "My name is Atul\n",
      "\n",
      "hello\n",
      "Hello\n"
     ]
    }
   ],
   "source": [
    "# string as an array but these is differences \n",
    "h=\"My name is Atul\"\n",
    "print(h[0])\n",
    "for char in h:\n",
    "    print(char, end='')\n",
    "#h[0]=\"H\" it is immutable means we can not directly modify the string\n",
    " # how to modify\n",
    "print(\"\\n\")\n",
    "x=\"hello\"\n",
    "print(x)\n",
    "x=\"H\"+x[1:] #x[1:] is \"ello\" concatanation\n",
    "print(x)\n",
    "\n"
   ]
  },
  {
   "cell_type": "code",
   "execution_count": 68,
   "id": "6e9b969e-0745-4111-ac41-9254c1765b41",
   "metadata": {},
   "outputs": [
    {
     "name": "stdout",
     "output_type": "stream",
     "text": [
      "Hello\n",
      "Hello\n",
      "Hello\n"
     ]
    }
   ],
   "source": [
    "x = \"hello\"\n",
    "x = x.replace(\"h\", \"H\", 1)  # Replace only the first occurrence of \"h\"\n",
    "print(x)  # Output: \"Hello\"\n",
    "\n",
    "\n",
    "x = \"hello\"\n",
    "x_list = list(x)   # Convert to list: ['h', 'e', 'l', 'l', 'o']\n",
    "x_list[0] = \"H\"    # Change the first element\n",
    "x = \"\".join(x_list) # Join back into a string\n",
    "print(x)  # Output: \"Hello\"\n",
    "\n",
    "\n",
    "x = \"hello\"\n",
    "x = f\"H{x[1:]}\"\n",
    "print(x)  # Output: \"Hello\"\n"
   ]
  },
  {
   "cell_type": "code",
   "execution_count": 85,
   "id": "1514fdd8-12c5-44d0-878f-c57e4f61c5de",
   "metadata": {},
   "outputs": [
    {
     "name": "stdout",
     "output_type": "stream",
     "text": [
      "13\n",
      "True\n",
      "True\n",
      "Yes present\n",
      "True\n",
      "No, 'Best' is NOT present.\n"
     ]
    }
   ],
   "source": [
    "#length of string \n",
    "x=\"Hello, world!\"\n",
    "print(len(x))\n",
    "\n",
    "#check string character-wise / partia match/ whole word but case-sensitive\n",
    "print(\"Hello\" in x)\n",
    "print(\"ello, \" in x) # Flase for \"hello\"\n",
    "\n",
    "#Use it in an if statement:   character-wise / partia match/ whole word but case-sensitive\n",
    "txt= \"Python is awasome\"\n",
    "if \"Python\" in txt:\n",
    "    print(\"Yes present\")\n",
    "\n",
    "# Check if NOT           character-wise / partia match/ whole word but case-sensitive\n",
    "txt = \"The best things in life are free!\"\n",
    "print(\"Best\" not in txt) \n",
    "\n",
    "#Use it in an if statement:    character-wise / partia match/ whole word but case-sensitive\n",
    "txt = \"The best things in life are free!\"\n",
    "if \"Best\" not in txt:\n",
    "  print(\"No, 'Best' is NOT present.\")\n"
   ]
  },
  {
   "cell_type": "code",
   "execution_count": 91,
   "id": "18d69eb1-194e-4b0d-9cab-22c79ab13918",
   "metadata": {},
   "outputs": [
    {
     "name": "stdout",
     "output_type": "stream",
     "text": [
      " nam\n",
      "My \n",
      "y name is 'Atul'\n"
     ]
    }
   ],
   "source": [
    "#Slicing String\n",
    "x=\"My name is 'Atul'\"\n",
    "print(x[2:6]) # 2 to 5\n",
    "print(x[:3])\n",
    "print(x[1:])"
   ]
  },
  {
   "cell_type": "code",
   "execution_count": 1,
   "id": "91284d84-9018-4f70-b008-24d366ed3ccb",
   "metadata": {},
   "outputs": [
    {
     "name": "stdout",
     "output_type": "stream",
     "text": [
      "orl\n"
     ]
    }
   ],
   "source": [
    "b = \"Hello, World!\"\n",
    "print(b[-5:-2])"
   ]
  },
  {
   "cell_type": "code",
   "execution_count": 14,
   "id": "55bd6378-a22a-44ef-86be-df9d470d4aa7",
   "metadata": {},
   "outputs": [
    {
     "name": "stdout",
     "output_type": "stream",
     "text": [
      "hello, world!\n",
      "HELLO, WORLD!\n",
      "My name , is aAtul\n",
      "   My nMme , is MAtul   \n",
      "['   My n', 'me , is ', 'Atul   ']\n"
     ]
    }
   ],
   "source": [
    "#modify string\n",
    "x=\"Hello, world!\"\n",
    "print(x.lower())\n",
    "print(x.upper())\n",
    "y=\"   My name , is aAtul   \"# just strip() method removes any whitespace from the beginning or the end\n",
    "print(y.strip())\n",
    "print(y.replace(\"a\",\"M\")) # replace all the simillar values\n",
    "print(y.split(\"a\"))       # spilt all the simillar values"
   ]
  },
  {
   "cell_type": "code",
   "execution_count": 17,
   "id": "b5d7330f-22d4-4b15-97df-a54900b13acc",
   "metadata": {},
   "outputs": [
    {
     "name": "stdout",
     "output_type": "stream",
     "text": [
      "Hello World\n"
     ]
    }
   ],
   "source": [
    "#concatanation\n",
    "a=\"Hello\"\n",
    "b=\"World\"\n",
    "c=a+\" \"+b\n",
    "print(c)"
   ]
  },
  {
   "cell_type": "code",
   "execution_count": 28,
   "id": "febbe4e2-9ec0-41f1-baaf-108527f763f4",
   "metadata": {},
   "outputs": [
    {
     "name": "stdout",
     "output_type": "stream",
     "text": [
      "My age is 23\n",
      "It is 23 taka in price\n",
      "It is 23.000000 taka in price\n",
      "It is 4 taka in price\n"
     ]
    }
   ],
   "source": [
    "#F-string format\n",
    "a= 23\n",
    "b=f\"My age is {a}\" # placeholder\n",
    "print(b)\n",
    "\n",
    "price=f\"It is {a} taka in price\" # placeholder\n",
    "print(price)\n",
    "\n",
    "price=f\"It is {a:2f} taka in price\" #Display the price with 2 decimals:\n",
    "print(price)\n",
    "\n",
    "price=f\"It is {2*2} taka in price\" #Display the price with 2 decimals: and can also perform math operation\n",
    "print(price)"
   ]
  },
  {
   "cell_type": "code",
   "execution_count": 3,
   "id": "745fd7d8-7bc6-4de0-acd6-071fcec81ed4",
   "metadata": {},
   "outputs": [
    {
     "name": "stdout",
     "output_type": "stream",
     "text": [
      "He is calld the \"Viking\" of the east\n"
     ]
    }
   ],
   "source": [
    "#escape character\n",
    "txt=\"He is calld the \\\"Viking\\\" of the east\"\n",
    "print(txt)"
   ]
  },
  {
   "cell_type": "code",
   "execution_count": 7,
   "id": "a5ca0bae-2415-437a-a6c8-62818c9e8b98",
   "metadata": {},
   "outputs": [
    {
     "name": "stdout",
     "output_type": "stream",
     "text": [
      "True\n",
      "False\n",
      "False\n"
     ]
    }
   ],
   "source": [
    "#boolean\n",
    "print(10 > 9)\n",
    "print(10 == 9)\n",
    "print(10 < 9)"
   ]
  },
  {
   "cell_type": "code",
   "execution_count": 9,
   "id": "bed65093-a5e4-490f-a157-07d791fb7f98",
   "metadata": {},
   "outputs": [
    {
     "name": "stdout",
     "output_type": "stream",
     "text": [
      "b is greater than a\n"
     ]
    }
   ],
   "source": [
    "# by condition\n",
    "a=9\n",
    "b=10\n",
    "if(a>b):\n",
    "    print(\"a is grater than b\")\n",
    "else:\n",
    "    print(\"b is greater than a\")"
   ]
  },
  {
   "cell_type": "code",
   "execution_count": 20,
   "id": "6560615e-ec6a-48b4-bb2e-bfca0e3eb860",
   "metadata": {},
   "outputs": [
    {
     "name": "stdout",
     "output_type": "stream",
     "text": [
      "True\n",
      "True\n",
      "False\n",
      "True\n",
      "False\n"
     ]
    }
   ],
   "source": [
    "print(bool(\"Hello\"))# non empty means true\n",
    "print(bool(15))\n",
    "print(bool()) #  empty means false\n",
    "x=\"Hello\"\n",
    "y=None\n",
    "print(bool(x))\n",
    "print(bool(y))\n"
   ]
  },
  {
   "cell_type": "code",
   "execution_count": 21,
   "id": "18d92eb6-dae2-493f-ae3b-744383729f36",
   "metadata": {},
   "outputs": [
    {
     "name": "stdout",
     "output_type": "stream",
     "text": [
      "True\n",
      "False\n",
      "True\n"
     ]
    }
   ],
   "source": [
    "my_variable = None\n",
    "print(my_variable is None)  # Output: True\n",
    "\n",
    "my_variable = \"\"\n",
    "print(my_variable is None)   # Output: False\n",
    "print(my_variable == \"\")      # Output: True\n"
   ]
  },
  {
   "cell_type": "code",
   "execution_count": 24,
   "id": "d6812d1d-a23b-4b68-9b69-4c99118e4fee",
   "metadata": {},
   "outputs": [
    {
     "data": {
      "text/plain": [
       "True"
      ]
     },
     "execution_count": 24,
     "metadata": {},
     "output_type": "execute_result"
    }
   ],
   "source": [
    "bool(\"abc\")\n",
    "bool(123)\n",
    "bool([\"apple\", \"cherry\", \"banana\"])"
   ]
  },
  {
   "cell_type": "code",
   "execution_count": 25,
   "id": "e39a3856-65d1-4628-b891-688e93cd03ba",
   "metadata": {},
   "outputs": [
    {
     "data": {
      "text/plain": [
       "False"
      ]
     },
     "execution_count": 25,
     "metadata": {},
     "output_type": "execute_result"
    }
   ],
   "source": [
    "# False values\n",
    "bool(False)\n",
    "bool(None)\n",
    "bool(0)\n",
    "bool(\"\")\n",
    "bool(())\n",
    "bool([])\n",
    "bool({})"
   ]
  },
  {
   "cell_type": "code",
   "execution_count": null,
   "id": "6ecb6254-21a1-482e-926c-f271921ee9dd",
   "metadata": {},
   "outputs": [],
   "source": []
  }
 ],
 "metadata": {
  "kernelspec": {
   "display_name": "Python 3 (ipykernel)",
   "language": "python",
   "name": "python3"
  },
  "language_info": {
   "codemirror_mode": {
    "name": "ipython",
    "version": 3
   },
   "file_extension": ".py",
   "mimetype": "text/x-python",
   "name": "python",
   "nbconvert_exporter": "python",
   "pygments_lexer": "ipython3",
   "version": "3.12.4"
  }
 },
 "nbformat": 4,
 "nbformat_minor": 5
}
