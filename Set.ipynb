{
 "cells": [
  {
   "cell_type": "code",
   "execution_count": null,
   "id": "0d24a8b8-1b22-4555-971e-c3ab7d310abd",
   "metadata": {},
   "outputs": [],
   "source": [
    "#A set is a collection which is unordered, unchangeable*, and unindexed.\n",
    "#* Note: Set items are unchangeable, but you can remove items and add new items.\n",
    "# Set items can appear in a different order every time you use them, and cannot be referred to by index or key.\n",
    "# Duplicates Not Allowed\n",
    "# Note: Both union() and update() will exclude any duplicate items.\n"
   ]
  },
  {
   "cell_type": "code",
   "execution_count": 5,
   "id": "6291324f-ad55-41df-a269-ba1b99af8287",
   "metadata": {},
   "outputs": [
    {
     "name": "stdout",
     "output_type": "stream",
     "text": [
      "{'banana', 'apple', 'cherry'}\n",
      "banana apple cherry "
     ]
    }
   ],
   "source": [
    "thisset = {\"apple\", \"banana\", \"cherry\"}\n",
    "print(thisset)\n",
    "for i in thisset:\n",
    "    print(i,end=\" \")"
   ]
  },
  {
   "cell_type": "code",
   "execution_count": 6,
   "id": "bc709cd4-90be-4f80-9bab-fc916483593d",
   "metadata": {},
   "outputs": [
    {
     "name": "stdout",
     "output_type": "stream",
     "text": [
      "{'cherry', 'banana', 'apple'}\n",
      "cherry banana apple \n",
      "\n",
      "3\n",
      "<class 'set'>\n",
      "True\n"
     ]
    }
   ],
   "source": [
    "# Duplicate values will be ignored: means not allowed\n",
    "thisset = {\"apple\", \"banana\", \"cherry\",\"apple\"}\n",
    "print(thisset)\n",
    "for i in thisset:\n",
    "    print(i,end=\" \")\n",
    "print(\"\\n\")\n",
    "print(len(thisset))\n",
    "print(type(thisset))\n",
    "print(\"apple\" in thisset)"
   ]
  },
  {
   "cell_type": "code",
   "execution_count": 12,
   "id": "f16ca039-a035-497e-9c80-39b2dedf698f",
   "metadata": {},
   "outputs": [
    {
     "name": "stdout",
     "output_type": "stream",
     "text": [
      "{True, 2, 'cherry', 'apple', 'banana'}\n",
      "5\n"
     ]
    }
   ],
   "source": [
    "#True and 1 is considered the same value:\n",
    "\n",
    "thisset = {\"apple\", \"banana\", \"cherry\", True, 1, 2}\n",
    "\n",
    "print(thisset)\n",
    "print(len(thisset))"
   ]
  },
  {
   "cell_type": "code",
   "execution_count": 11,
   "id": "67d953f6-ab7d-4ea8-bdd2-ebfe8a15ec80",
   "metadata": {},
   "outputs": [
    {
     "name": "stdout",
     "output_type": "stream",
     "text": [
      "{False, True, 'cherry', 'apple', 'banana'}\n",
      "5\n"
     ]
    }
   ],
   "source": [
    "#Note: The values False and 0 are considered the same value in sets, and are treated as duplicates:\n",
    "\n",
    "thisset = {\"apple\", \"banana\", \"cherry\", False, True,1, 0}\n",
    "\n",
    "print(thisset)\n",
    "print(len(thisset))"
   ]
  },
  {
   "cell_type": "code",
   "execution_count": 13,
   "id": "dc2545a4-e017-4a02-8248-d05409d34435",
   "metadata": {},
   "outputs": [
    {
     "name": "stdout",
     "output_type": "stream",
     "text": [
      "{'cherry', 'banana', 'apple'}\n"
     ]
    }
   ],
   "source": [
    "# can store multiple datatype\n",
    "# Using the set() constructor to make a set:\n",
    "\n",
    "thisset = set((\"apple\", \"banana\", \"cherry\")) # note the double round-brackets\n",
    "print(thisset)"
   ]
  },
  {
   "cell_type": "code",
   "execution_count": 15,
   "id": "3edc82da-905b-48e0-8af0-909fcf8ff6e1",
   "metadata": {},
   "outputs": [
    {
     "name": "stdout",
     "output_type": "stream",
     "text": [
      "cherry\n",
      "banana\n",
      "apple\n"
     ]
    }
   ],
   "source": [
    "# Access set values\n",
    "thisset = {\"apple\", \"banana\", \"cherry\"}\n",
    "\n",
    "for x in thisset:\n",
    "  print(x)"
   ]
  },
  {
   "cell_type": "code",
   "execution_count": 16,
   "id": "6b70e512-3cd1-497f-92de-c8f450437afe",
   "metadata": {},
   "outputs": [
    {
     "name": "stdout",
     "output_type": "stream",
     "text": [
      "True\n"
     ]
    }
   ],
   "source": [
    "thisset = {\"apple\", \"banana\", \"cherry\"}\n",
    "\n",
    "print(\"banana\" in thisset)"
   ]
  },
  {
   "cell_type": "code",
   "execution_count": 17,
   "id": "effd2c2f-423d-46f2-91a4-69912b4c4d22",
   "metadata": {},
   "outputs": [
    {
     "name": "stdout",
     "output_type": "stream",
     "text": [
      "False\n"
     ]
    }
   ],
   "source": [
    "thisset = {\"apple\", \"banana\", \"cherry\"}\n",
    "\n",
    "print(\"banana\" not in thisset)"
   ]
  },
  {
   "cell_type": "code",
   "execution_count": 19,
   "id": "f95ce8c8-66b9-48cf-8b20-610dd665c452",
   "metadata": {},
   "outputs": [
    {
     "name": "stdout",
     "output_type": "stream",
     "text": [
      "{'mango', 'cherry', 'banana', 'apple'}\n"
     ]
    }
   ],
   "source": [
    "#Once a set is created, you cannot change its items, but you can add new items.\n",
    "\n",
    "# add iteams\n",
    "#Add an item to a set, using the add() method\n",
    "thisset = {\"apple\", \"banana\", \"cherry\"}\n",
    "thisset.add(\"mango\")\n",
    "print(thisset)"
   ]
  },
  {
   "cell_type": "code",
   "execution_count": 20,
   "id": "51e98f5b-f0cd-43aa-9815-2ce07ccf005a",
   "metadata": {},
   "outputs": [
    {
     "name": "stdout",
     "output_type": "stream",
     "text": [
      "{'pineapple', 'cherry', 'apple', 'mango', 'banana', 'papaya'}\n"
     ]
    }
   ],
   "source": [
    "#To add items from another set into the current set, use the update() method.\n",
    "thisset = {\"apple\", \"banana\", \"cherry\"}\n",
    "tropical = {\"pineapple\", \"mango\", \"papaya\"}\n",
    "\n",
    "thisset.update(tropical)\n",
    "\n",
    "print(thisset)"
   ]
  },
  {
   "cell_type": "code",
   "execution_count": 23,
   "id": "fe6d1643-d157-4858-b82f-cb3c4ff15440",
   "metadata": {},
   "outputs": [
    {
     "name": "stdout",
     "output_type": "stream",
     "text": [
      "3\n",
      "{'apple', 'kiwi', 'cherry', 'orange', 'banana'}\n",
      "5\n"
     ]
    }
   ],
   "source": [
    "#The object in the update() method does not have to be a set, it can be any iterable object (tuples, lists, dictionaries etc.).\n",
    "thisset = {\"apple\", \"banana\", \"cherry\"}\n",
    "mylist = [\"kiwi\", \"orange\"]\n",
    "print(len(thisset))\n",
    "thisset.update(mylist)\n",
    "print(thisset)\n",
    "print(len(thisset))"
   ]
  },
  {
   "cell_type": "code",
   "execution_count": 24,
   "id": "e21113df-52f8-47c5-91c7-70e054b188a1",
   "metadata": {},
   "outputs": [
    {
     "name": "stdout",
     "output_type": "stream",
     "text": [
      "{'cherry', 'apple'}\n"
     ]
    }
   ],
   "source": [
    "# remove \n",
    "#To remove an item in a set, use the remove(), or the discard() method.\n",
    "\n",
    "thisset = {\"apple\", \"banana\", \"cherry\"}\n",
    "\n",
    "thisset.remove(\"banana\")\n",
    "\n",
    "print(thisset)"
   ]
  },
  {
   "cell_type": "code",
   "execution_count": 25,
   "id": "08bf2260-85ac-48dc-95f8-b1161eaf7101",
   "metadata": {},
   "outputs": [
    {
     "name": "stdout",
     "output_type": "stream",
     "text": [
      "{'cherry', 'apple'}\n"
     ]
    }
   ],
   "source": [
    "thisset = {\"apple\", \"banana\", \"cherry\"}\n",
    "\n",
    "thisset.discard(\"banana\")\n",
    "\n",
    "print(thisset)"
   ]
  },
  {
   "cell_type": "code",
   "execution_count": 26,
   "id": "b996daf7-9d2b-47cf-aa65-7c4d64f29bca",
   "metadata": {},
   "outputs": [
    {
     "name": "stdout",
     "output_type": "stream",
     "text": [
      "cherry\n",
      "{'banana', 'apple'}\n"
     ]
    }
   ],
   "source": [
    "#Remove a random item by using the pop() method:\n",
    "thisset = {\"apple\", \"banana\", \"cherry\"}\n",
    "\n",
    "x = thisset.pop()\n",
    "\n",
    "print(x)\n",
    "\n",
    "print(thisset)\n"
   ]
  },
  {
   "cell_type": "code",
   "execution_count": 27,
   "id": "380af5a2-bad8-4431-a8a5-f4e21c10c366",
   "metadata": {},
   "outputs": [
    {
     "name": "stdout",
     "output_type": "stream",
     "text": [
      "set()\n"
     ]
    }
   ],
   "source": [
    "# The clear() method empties the set:\n",
    "\n",
    "\n",
    "thisset = {\"apple\", \"banana\", \"cherry\"}\n",
    "\n",
    "thisset.clear()\n",
    "\n",
    "print(thisset)"
   ]
  },
  {
   "cell_type": "code",
   "execution_count": 28,
   "id": "70723412-f703-4924-b274-94aa94430ef6",
   "metadata": {},
   "outputs": [
    {
     "ename": "NameError",
     "evalue": "name 'thisset' is not defined",
     "output_type": "error",
     "traceback": [
      "\u001b[1;31m---------------------------------------------------------------------------\u001b[0m",
      "\u001b[1;31mNameError\u001b[0m                                 Traceback (most recent call last)",
      "Cell \u001b[1;32mIn[28], line 7\u001b[0m\n\u001b[0;32m      3\u001b[0m thisset \u001b[38;5;241m=\u001b[39m {\u001b[38;5;124m\"\u001b[39m\u001b[38;5;124mapple\u001b[39m\u001b[38;5;124m\"\u001b[39m, \u001b[38;5;124m\"\u001b[39m\u001b[38;5;124mbanana\u001b[39m\u001b[38;5;124m\"\u001b[39m, \u001b[38;5;124m\"\u001b[39m\u001b[38;5;124mcherry\u001b[39m\u001b[38;5;124m\"\u001b[39m}\n\u001b[0;32m      5\u001b[0m \u001b[38;5;28;01mdel\u001b[39;00m thisset\n\u001b[1;32m----> 7\u001b[0m \u001b[38;5;28mprint\u001b[39m(thisset)\n",
      "\u001b[1;31mNameError\u001b[0m: name 'thisset' is not defined"
     ]
    }
   ],
   "source": [
    "# The del keyword will delete the set completely:\n",
    "\n",
    "thisset = {\"apple\", \"banana\", \"cherry\"}\n",
    "\n",
    "del thisset\n",
    "\n",
    "print(thisset)"
   ]
  },
  {
   "cell_type": "code",
   "execution_count": 29,
   "id": "3baed22b-1855-4a9e-9a88-e0a179531c48",
   "metadata": {},
   "outputs": [
    {
     "name": "stdout",
     "output_type": "stream",
     "text": [
      "cherry\n",
      "banana\n",
      "apple\n"
     ]
    }
   ],
   "source": [
    "#loops for loop\n",
    "thisset = {\"apple\", \"banana\", \"cherry\"}\n",
    "\n",
    "for x in thisset:\n",
    "  print(x)"
   ]
  },
  {
   "cell_type": "code",
   "execution_count": 31,
   "id": "a71dee0b-76d7-49ff-b748-2641d0f67f25",
   "metadata": {},
   "outputs": [
    {
     "name": "stdout",
     "output_type": "stream",
     "text": [
      "{'c', 1, 2, 3, 'a', 'b'}\n",
      "{'c', 1, 2, 3, 'a', 'b'}\n"
     ]
    }
   ],
   "source": [
    "# The union() method returns a new set with all items from both sets.\n",
    "set1 = {\"a\", \"b\", \"c\"}\n",
    "set2 = {1, 2, 3}\n",
    "\n",
    "set3 = set1.union(set2)\n",
    "print(set3)\n",
    "set4=set1|set2 # same as union() and |\n",
    "print(set4)"
   ]
  },
  {
   "cell_type": "code",
   "execution_count": 32,
   "id": "061cfc9e-b9d1-43de-8849-4606e1465dd7",
   "metadata": {},
   "outputs": [
    {
     "name": "stdout",
     "output_type": "stream",
     "text": [
      "{1, 2, 3, 'apple', 'a', 'b', 'Elena', 'c', 'cherry', 'bananas', 'John'}\n"
     ]
    }
   ],
   "source": [
    "set1 = {\"a\", \"b\", \"c\"}\n",
    "set2 = {1, 2, 3}\n",
    "set3 = {\"John\", \"Elena\"}\n",
    "set4 = {\"apple\", \"bananas\", \"cherry\"}\n",
    "\n",
    "myset = set1.union(set2, set3, set4)\n",
    "print(myset)"
   ]
  },
  {
   "cell_type": "code",
   "execution_count": 33,
   "id": "f87ac03e-8e0c-48bb-bfd6-859d8f7c2497",
   "metadata": {},
   "outputs": [
    {
     "name": "stdout",
     "output_type": "stream",
     "text": [
      "{1, 2, 3, 'apple', 'a', 'b', 'Elena', 'c', 'cherry', 'bananas', 'John'}\n"
     ]
    }
   ],
   "source": [
    "set1 = {\"a\", \"b\", \"c\"}\n",
    "set2 = {1, 2, 3}\n",
    "set3 = {\"John\", \"Elena\"}\n",
    "set4 = {\"apple\", \"bananas\", \"cherry\"}\n",
    "\n",
    "myset = set1 | set2 | set3 |set4\n",
    "print(myset)"
   ]
  },
  {
   "cell_type": "code",
   "execution_count": 34,
   "id": "c66f6dd8-0014-492f-af9d-5c07924afc50",
   "metadata": {},
   "outputs": [
    {
     "name": "stdout",
     "output_type": "stream",
     "text": [
      "{1, 2, 3, 'a', 'b', 'c'}\n"
     ]
    }
   ],
   "source": [
    "# join set and tuple\n",
    "x = {\"a\", \"b\", \"c\"}\n",
    "y = (1, 2, 3)\n",
    "\n",
    "z = x.union(y)\n",
    "print(z)"
   ]
  },
  {
   "cell_type": "code",
   "execution_count": null,
   "id": "04c32cd8-dd1f-4e10-beb4-86615a87baef",
   "metadata": {},
   "outputs": [],
   "source": [
    "#Note: The  | operator only allows you to join sets with sets, and not with other data types like you can with the  union() method."
   ]
  },
  {
   "cell_type": "code",
   "execution_count": 35,
   "id": "37575bc9-4c0b-4436-aaa8-69141093c313",
   "metadata": {},
   "outputs": [
    {
     "name": "stdout",
     "output_type": "stream",
     "text": [
      "{'c', 1, 2, 3, 'a', 'b'}\n"
     ]
    }
   ],
   "source": [
    "#The update() method inserts all items from one set into another.\n",
    "\n",
    "#The update() changes the original set, and does not return a new set.\n",
    "set1 = {\"a\", \"b\" , \"c\"}\n",
    "set2 = {1, 2, 3}\n",
    "\n",
    "set1.update(set2)\n",
    "print(set1)"
   ]
  },
  {
   "cell_type": "code",
   "execution_count": null,
   "id": "238da9f3-a026-44c5-8f8b-71b70f262711",
   "metadata": {},
   "outputs": [],
   "source": [
    "'''\n",
    "Method\tShortcut\tDescription\n",
    "add()\t \tAdds an element to the set\n",
    "clear()\t \tRemoves all the elements from the set\n",
    "copy()\t \tReturns a copy of the set\n",
    "difference()\t-\tReturns a set containing the difference between two or more sets\n",
    "difference_update()\t-=\tRemoves the items in this set that are also included in another, specified set\n",
    "discard()\t \tRemove the specified item\n",
    "intersection()\t&\tReturns a set, that is the intersection of two other sets\n",
    "intersection_update()\t&=\tRemoves the items in this set that are not present in other, specified set(s)\n",
    "isdisjoint()\t \tReturns whether two sets have a intersection or not\n",
    "issubset()\t<=\tReturns whether another set contains this set or not\n",
    " \t<\tReturns whether all items in this set is present in other, specified set(s)\n",
    "issuperset()\t>=\tReturns whether this set contains another set or not\n",
    " \t>\tReturns whether all items in other, specified set(s) is present in this set\n",
    "pop()\t \tRemoves an element from the set\n",
    "remove()\t \tRemoves the specified element\n",
    "symmetric_difference()\t^\tReturns a set with the symmetric differences of two sets\n",
    "symmetric_difference_update()\t^=\tInserts the symmetric differences from this set and another\n",
    "union()\t|\tReturn a set containing the union of sets\n",
    "update()\t|=\tUpdate the set with the union of this set and others'''"
   ]
  }
 ],
 "metadata": {
  "kernelspec": {
   "display_name": "Python 3 (ipykernel)",
   "language": "python",
   "name": "python3"
  },
  "language_info": {
   "codemirror_mode": {
    "name": "ipython",
    "version": 3
   },
   "file_extension": ".py",
   "mimetype": "text/x-python",
   "name": "python",
   "nbconvert_exporter": "python",
   "pygments_lexer": "ipython3",
   "version": "3.12.4"
  }
 },
 "nbformat": 4,
 "nbformat_minor": 5
}
