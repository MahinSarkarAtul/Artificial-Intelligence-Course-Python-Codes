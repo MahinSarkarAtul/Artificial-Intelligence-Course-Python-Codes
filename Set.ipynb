{
 "cells": [
  {
   "cell_type": "code",
   "execution_count": null,
   "id": "0d24a8b8-1b22-4555-971e-c3ab7d310abd",
   "metadata": {},
   "outputs": [],
   "source": [
    "#A set is a collection which is unordered, unchangeable*, and unindexed.\n",
    "#* Note: Set items are unchangeable, but you can remove items and add new items.\n",
    "# Set items can appear in a different order every time you use them, and cannot be referred to by index or key.\n",
    "# Duplicates Not Allowed\n"
   ]
  },
  {
   "cell_type": "code",
   "execution_count": 5,
   "id": "6291324f-ad55-41df-a269-ba1b99af8287",
   "metadata": {},
   "outputs": [
    {
     "name": "stdout",
     "output_type": "stream",
     "text": [
      "{'banana', 'apple', 'cherry'}\n",
      "banana apple cherry "
     ]
    }
   ],
   "source": [
    "thisset = {\"apple\", \"banana\", \"cherry\"}\n",
    "print(thisset)\n",
    "for i in thisset:\n",
    "    print(i,end=\" \")"
   ]
  },
  {
   "cell_type": "code",
   "execution_count": 11,
   "id": "bc709cd4-90be-4f80-9bab-fc916483593d",
   "metadata": {},
   "outputs": [
    {
     "name": "stdout",
     "output_type": "stream",
     "text": [
      "{'banana', 'apple', 'cherry'}\n",
      "banana apple cherry True\n"
     ]
    }
   ],
   "source": [
    "# Duplicate values will be ignored: means not allowed\n",
    "thisset = {\"apple\", \"banana\", \"cherry\",\"apple\"}\n",
    "print(thisset)\n",
    "for i in thisset:\n",
    "    print(i,end=\" \")\n",
    "\n",
    "print(\"apple\" in thisset)"
   ]
  },
  {
   "cell_type": "code",
   "execution_count": null,
   "id": "f16ca039-a035-497e-9c80-39b2dedf698f",
   "metadata": {},
   "outputs": [],
   "source": []
  }
 ],
 "metadata": {
  "kernelspec": {
   "display_name": "Python 3 (ipykernel)",
   "language": "python",
   "name": "python3"
  },
  "language_info": {
   "codemirror_mode": {
    "name": "ipython",
    "version": 3
   },
   "file_extension": ".py",
   "mimetype": "text/x-python",
   "name": "python",
   "nbconvert_exporter": "python",
   "pygments_lexer": "ipython3",
   "version": "3.12.4"
  }
 },
 "nbformat": 4,
 "nbformat_minor": 5
}
