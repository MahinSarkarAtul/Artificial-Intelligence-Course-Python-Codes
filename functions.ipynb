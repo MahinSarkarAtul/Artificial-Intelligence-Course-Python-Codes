{
 "cells": [
  {
   "cell_type": "code",
   "execution_count": 2,
   "id": "eb58d62f-3a6b-4c1d-8d3f-7682e1e3f310",
   "metadata": {},
   "outputs": [
    {
     "name": "stdout",
     "output_type": "stream",
     "text": [
      "False\n"
     ]
    }
   ],
   "source": [
    "p=True\n",
    "\n",
    "q=True\n",
    "\n",
    "print(p and not q)\n",
    "q"
   ]
  },
  {
   "cell_type": "code",
   "execution_count": 8,
   "id": "18591060-c41f-4759-8e55-515a18c991a7",
   "metadata": {},
   "outputs": [
    {
     "ename": "SyntaxError",
     "evalue": "invalid syntax (3002583746.py, line 5)",
     "output_type": "error",
     "traceback": [
      "\u001b[1;36m  Cell \u001b[1;32mIn[8], line 5\u001b[1;36m\u001b[0m\n\u001b[1;33m    result = p || (not r)\u001b[0m\n\u001b[1;37m                ^\u001b[0m\n\u001b[1;31mSyntaxError\u001b[0m\u001b[1;31m:\u001b[0m invalid syntax\n"
     ]
    }
   ],
   "source": [
    "p = True\n",
    "q = False\n",
    "r = False\n",
    "\n",
    "result = p and (not r)\n",
    "print(result)   # Output: False\n",
    "print(p != r)"
   ]
  },
  {
   "cell_type": "code",
   "execution_count": 10,
   "id": "eb860438-5eb2-44bc-bf4a-a12653704bd7",
   "metadata": {},
   "outputs": [
    {
     "name": "stdout",
     "output_type": "stream",
     "text": [
      "False\n"
     ]
    }
   ],
   "source": [
    "a = 5\n",
    "b = 5\n",
    "print(a != b)   # Output: True, because 5 is not equal to 10\n",
    "   # Output: False, because 5 is equal to 5"
   ]
  },
  {
   "cell_type": "code",
   "execution_count": 13,
   "id": "0c3dd3c0-fbef-4207-86b4-fc958c51ba04",
   "metadata": {},
   "outputs": [
    {
     "name": "stdout",
     "output_type": "stream",
     "text": [
      "Add 3\n",
      "Sub -1\n"
     ]
    }
   ],
   "source": [
    "def cal(a,b):\n",
    "    print(\"Add\",a+b)\n",
    "    print(\"Sub\",a-b)\n",
    "    \n",
    "\n",
    "cal(1,2)"
   ]
  },
  {
   "cell_type": "code",
   "execution_count": 15,
   "id": "6374a9c7-dbff-4ffe-ada1-fce986596b97",
   "metadata": {},
   "outputs": [
    {
     "name": "stdout",
     "output_type": "stream",
     "text": [
      "Add 3\n"
     ]
    }
   ],
   "source": [
    "def cal(a,b):\n",
    "    c=a+b\n",
    "    print(\"Add\",c)\n",
    "    #print(\"Sub\",a-b)\n",
    "    \n",
    "\n",
    "cal(1,2)"
   ]
  },
  {
   "cell_type": "code",
   "execution_count": 16,
   "id": "4fe1e8d3-0963-4041-b8c7-ea9e155492b6",
   "metadata": {},
   "outputs": [
    {
     "name": "stdout",
     "output_type": "stream",
     "text": [
      "Hello from a function\n"
     ]
    }
   ],
   "source": [
    "def my_function():\n",
    "  print(\"Hello from a function\")\n",
    "\n",
    "my_function()"
   ]
  },
  {
   "cell_type": "code",
   "execution_count": 17,
   "id": "322c3d88-f286-4a05-993a-a1742fb247f4",
   "metadata": {},
   "outputs": [
    {
     "name": "stdout",
     "output_type": "stream",
     "text": [
      "Emil Refsnes\n",
      "Tobias Refsnes\n",
      "Linus Refsnes\n"
     ]
    }
   ],
   "source": [
    "def my_function(fname):\n",
    "  print(fname + \" Refsnes\")\n",
    "\n",
    "my_function(\"Emil\")\n",
    "my_function(\"Tobias\")\n",
    "my_function(\"Linus\")"
   ]
  },
  {
   "cell_type": "code",
   "execution_count": 24,
   "id": "7d020a83-f8be-46bd-a07f-48cb7e49abce",
   "metadata": {},
   "outputs": [
    {
     "name": "stdout",
     "output_type": "stream",
     "text": [
      "Add mn\n",
      "Add 4\n",
      "Add m6\n"
     ]
    }
   ],
   "source": [
    "def cal(a,b):\n",
    "    c=a+b\n",
    "    print(\"Add\",c)\n",
    "    #print(\"Sub\",a-b)\n",
    "    \n",
    "\n",
    "cal(\"m\",\"n\")\n",
    "cal(1,3)\n",
    "cal(\"m\",str(6))"
   ]
  },
  {
   "cell_type": "code",
   "execution_count": 25,
   "id": "935839e4-d54c-4aab-9d87-02642626143b",
   "metadata": {},
   "outputs": [
    {
     "name": "stdout",
     "output_type": "stream",
     "text": [
      "Emil Refsnes\n"
     ]
    }
   ],
   "source": [
    "def my_function(fname, lname):\n",
    "  print(fname + \" \" + lname)\n",
    "\n",
    "my_function(\"Emil\", \"Refsnes\")"
   ]
  },
  {
   "cell_type": "code",
   "execution_count": 26,
   "id": "91f6e757-658c-41c2-8bd7-332a75d9f656",
   "metadata": {},
   "outputs": [
    {
     "name": "stdout",
     "output_type": "stream",
     "text": [
      "The youngest child is Linus\n"
     ]
    }
   ],
   "source": [
    "def my_function(*kids):\n",
    "  print(\"The youngest child is \" + kids[2])\n",
    "\n",
    "my_function(\"Emil\", \"Tobias\", \"Linus\")"
   ]
  },
  {
   "cell_type": "code",
   "execution_count": 32,
   "id": "d708e2c1-d07b-43ee-815f-faa941aff783",
   "metadata": {},
   "outputs": [
    {
     "ename": "RecursionError",
     "evalue": "maximum recursion depth exceeded",
     "output_type": "error",
     "traceback": [
      "\u001b[1;31m---------------------------------------------------------------------------\u001b[0m",
      "\u001b[1;31mRecursionError\u001b[0m                            Traceback (most recent call last)",
      "Cell \u001b[1;32mIn[32], line 4\u001b[0m\n\u001b[0;32m      1\u001b[0m \u001b[38;5;28;01mdef\u001b[39;00m \u001b[38;5;21msum1\u001b[39m(\u001b[38;5;241m*\u001b[39ma):\n\u001b[0;32m      2\u001b[0m     \u001b[38;5;28mprint\u001b[39m(\u001b[38;5;124m\"\u001b[39m\u001b[38;5;124mSum\u001b[39m\u001b[38;5;124m\"\u001b[39m, \u001b[38;5;28msum\u001b[39m(a))  \u001b[38;5;66;03m# Use the built-in sum() function\u001b[39;00m\n\u001b[1;32m----> 4\u001b[0m sum1(\u001b[38;5;241m1\u001b[39m, \u001b[38;5;241m2\u001b[39m, \u001b[38;5;241m3\u001b[39m)\n",
      "Cell \u001b[1;32mIn[32], line 2\u001b[0m, in \u001b[0;36msum1\u001b[1;34m(*a)\u001b[0m\n\u001b[0;32m      1\u001b[0m \u001b[38;5;28;01mdef\u001b[39;00m \u001b[38;5;21msum1\u001b[39m(\u001b[38;5;241m*\u001b[39ma):\n\u001b[1;32m----> 2\u001b[0m     \u001b[38;5;28mprint\u001b[39m(\u001b[38;5;124m\"\u001b[39m\u001b[38;5;124mSum\u001b[39m\u001b[38;5;124m\"\u001b[39m, \u001b[38;5;28msum\u001b[39m(a))\n",
      "Cell \u001b[1;32mIn[30], line 2\u001b[0m, in \u001b[0;36msum\u001b[1;34m(*a)\u001b[0m\n\u001b[0;32m      1\u001b[0m \u001b[38;5;28;01mdef\u001b[39;00m \u001b[38;5;21msum\u001b[39m(\u001b[38;5;241m*\u001b[39ma):\n\u001b[1;32m----> 2\u001b[0m     \u001b[38;5;28mprint\u001b[39m(\u001b[38;5;124m\"\u001b[39m\u001b[38;5;124mSum\u001b[39m\u001b[38;5;124m\"\u001b[39m,\u001b[38;5;28msum\u001b[39m(a))\n",
      "Cell \u001b[1;32mIn[30], line 2\u001b[0m, in \u001b[0;36msum\u001b[1;34m(*a)\u001b[0m\n\u001b[0;32m      1\u001b[0m \u001b[38;5;28;01mdef\u001b[39;00m \u001b[38;5;21msum\u001b[39m(\u001b[38;5;241m*\u001b[39ma):\n\u001b[1;32m----> 2\u001b[0m     \u001b[38;5;28mprint\u001b[39m(\u001b[38;5;124m\"\u001b[39m\u001b[38;5;124mSum\u001b[39m\u001b[38;5;124m\"\u001b[39m,\u001b[38;5;28msum\u001b[39m(a))\n",
      "    \u001b[1;31m[... skipping similar frames: sum at line 2 (2973 times)]\u001b[0m\n",
      "Cell \u001b[1;32mIn[30], line 2\u001b[0m, in \u001b[0;36msum\u001b[1;34m(*a)\u001b[0m\n\u001b[0;32m      1\u001b[0m \u001b[38;5;28;01mdef\u001b[39;00m \u001b[38;5;21msum\u001b[39m(\u001b[38;5;241m*\u001b[39ma):\n\u001b[1;32m----> 2\u001b[0m     \u001b[38;5;28mprint\u001b[39m(\u001b[38;5;124m\"\u001b[39m\u001b[38;5;124mSum\u001b[39m\u001b[38;5;124m\"\u001b[39m,\u001b[38;5;28msum\u001b[39m(a))\n",
      "\u001b[1;31mRecursionError\u001b[0m: maximum recursion depth exceeded"
     ]
    }
   ],
   "source": [
    "def sum1(*a):\n",
    "    print(\"Sum\", sum(a))  # Use the built-in sum() function\n",
    "\n",
    "sum1(1, 2, 3)\n"
   ]
  },
  {
   "cell_type": "code",
   "execution_count": 35,
   "id": "ac21dd53-8741-492d-a762-c05d5bd9abc7",
   "metadata": {},
   "outputs": [
    {
     "name": "stdout",
     "output_type": "stream",
     "text": [
      "Sum 10\n"
     ]
    }
   ],
   "source": [
    "from builtins import sum\n",
    "\n",
    "def sum1(*a):\n",
    "    print(\"Sum\", sum(a))\n",
    "\n",
    "sum1(1, 2,3,4)"
   ]
  },
  {
   "cell_type": "code",
   "execution_count": 37,
   "id": "fe19a229-ad5b-49c7-96bf-6bf7035aaafd",
   "metadata": {},
   "outputs": [
    {
     "name": "stdout",
     "output_type": "stream",
     "text": [
      "Sum 6\n",
      "Sum 21\n"
     ]
    }
   ],
   "source": [
    "def sum1(*a):\n",
    "    total = 0  # Initialize a variable to hold the sum\n",
    "    for number in a:  # Loop through each argument\n",
    "        total += number  # Add the number to total\n",
    "    print(\"Sum\", total)  # Print the result\n",
    "\n",
    "sum1(1, 2, 3)  # Output: Sum 6\n",
    "sum1(4, 5,3,4,5)     # Output: Sum 9"
   ]
  },
  {
   "cell_type": "code",
   "execution_count": 38,
   "id": "7d21046b-6af6-4918-9a1e-bafa26f4f0f8",
   "metadata": {},
   "outputs": [
    {
     "name": "stdout",
     "output_type": "stream",
     "text": [
      "The youngest child is Linus\n"
     ]
    }
   ],
   "source": [
    "def my_function(child3, child2, child1):\n",
    "  print(\"The youngest child is \" + child3)\n",
    "\n",
    "my_function(child1 = \"Emil\", child2 = \"Tobias\", child3 = \"Linus\")"
   ]
  },
  {
   "cell_type": "code",
   "execution_count": 40,
   "id": "c7801244-20de-4246-9912-b557094dfb9f",
   "metadata": {},
   "outputs": [
    {
     "name": "stdout",
     "output_type": "stream",
     "text": [
      "His last name is Refsnes\n"
     ]
    }
   ],
   "source": [
    "def my_function(**kid):\n",
    "  print(\"His last name is \" + kid[\"lname\"])\n",
    "\n",
    "my_function(fname = \"Tobias\", lname = \"Refsnes\")"
   ]
  },
  {
   "cell_type": "code",
   "execution_count": 41,
   "id": "6773ac51-1395-43e1-be3e-3f001a547a3c",
   "metadata": {},
   "outputs": [
    {
     "name": "stdout",
     "output_type": "stream",
     "text": [
      "I am from Sweden\n",
      "I am from India\n",
      "I am from Norway\n",
      "I am from Brazil\n"
     ]
    }
   ],
   "source": [
    "def my_function(country = \"Norway\"):\n",
    "  print(\"I am from \" + country)\n",
    "\n",
    "my_function(\"Sweden\")\n",
    "my_function(\"India\")\n",
    "my_function()\n",
    "my_function(\"Brazil\")"
   ]
  },
  {
   "cell_type": "code",
   "execution_count": 1,
   "id": "dc8c439e-811e-4698-8ece-9b83661bbbb7",
   "metadata": {},
   "outputs": [
    {
     "name": "stdout",
     "output_type": "stream",
     "text": [
      "11\n"
     ]
    }
   ],
   "source": [
    "def cal(value,by):\n",
    "    return value+by\n",
    "\n",
    "print(cal(10,by=1))"
   ]
  },
  {
   "cell_type": "code",
   "execution_count": 4,
   "id": "4469521a-f05a-442c-9f3d-1395dbb3f935",
   "metadata": {},
   "outputs": [
    {
     "name": "stdout",
     "output_type": "stream",
     "text": [
      "12\n",
      "11\n"
     ]
    }
   ],
   "source": [
    "def cal(value,by=2):\n",
    "    return value+by\n",
    "\n",
    "print(cal(10))\n",
    "def cal(value,by=2):\n",
    "    return value+by\n",
    "\n",
    "print(cal(10,1))"
   ]
  },
  {
   "cell_type": "code",
   "execution_count": null,
   "id": "983f20b2-b5d5-4447-ad05-0c0cb2decba0",
   "metadata": {},
   "outputs": [],
   "source": []
  }
 ],
 "metadata": {
  "kernelspec": {
   "display_name": "Python 3 (ipykernel)",
   "language": "python",
   "name": "python3"
  },
  "language_info": {
   "codemirror_mode": {
    "name": "ipython",
    "version": 3
   },
   "file_extension": ".py",
   "mimetype": "text/x-python",
   "name": "python",
   "nbconvert_exporter": "python",
   "pygments_lexer": "ipython3",
   "version": "3.12.4"
  }
 },
 "nbformat": 4,
 "nbformat_minor": 5
}
