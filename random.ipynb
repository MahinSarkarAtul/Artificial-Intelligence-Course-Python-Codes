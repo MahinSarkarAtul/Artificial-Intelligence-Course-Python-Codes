{
 "cells": [
  {
   "cell_type": "code",
   "execution_count": 8,
   "id": "80f1a770-5ece-4fd1-84c5-17d93293e6a9",
   "metadata": {},
   "outputs": [
    {
     "name": "stdout",
     "output_type": "stream",
     "text": [
      "[3, 4, 6, 5, 8, 5, 1, 8, 2, 7, 3, 0, 3, 8, 8, 8, 1, 4, 1, 7, 7, 10, 5, 0, 10, 7, 2, 2, 6, 3, 4, 10, 9, 9, 9, 8, 8, 7, 8, 9, 5, 2, 2, 3, 9, 2, 9, 10, 0, 9, 9, 7, 8, 9, 6, 7, 7, 8, 6, 8, 3, 9, 5, 3, 8, 0, 2, 9, 10, 5, 9, 4, 2, 1, 0, 10, 5, 9, 2, 0, 0, 9, 9, 5, 4, 6, 4, 8, 8, 1, 7, 7, 9, 3, 8, 9, 2, 5, 10, 2]\n"
     ]
    },
    {
     "data": {
      "text/plain": [
       "7"
      ]
     },
     "execution_count": 8,
     "metadata": {},
     "output_type": "execute_result"
    }
   ],
   "source": [
    "import random\n",
    "li = []\n",
    "for i in range(100):  # Added the colon here\n",
    "    li.append(random.randint(0, 10))  # Changed to generate random integers between 0 and 1\n",
    "print(li)\n",
    "li.count(0)"
   ]
  },
  {
   "cell_type": "code",
   "execution_count": 7,
   "id": "4696f535-c631-448f-bafb-355ef9e2bcaf",
   "metadata": {},
   "outputs": [
    {
     "name": "stdout",
     "output_type": "stream",
     "text": [
      "6\n"
     ]
    }
   ],
   "source": [
    "import random\n",
    "print(random.randint(1,100))"
   ]
  },
  {
   "cell_type": "code",
   "execution_count": null,
   "id": "25d7aa06-c765-4ad8-8842-4c98fcb25bd7",
   "metadata": {},
   "outputs": [],
   "source": []
  }
 ],
 "metadata": {
  "kernelspec": {
   "display_name": "Python 3 (ipykernel)",
   "language": "python",
   "name": "python3"
  },
  "language_info": {
   "codemirror_mode": {
    "name": "ipython",
    "version": 3
   },
   "file_extension": ".py",
   "mimetype": "text/x-python",
   "name": "python",
   "nbconvert_exporter": "python",
   "pygments_lexer": "ipython3",
   "version": "3.12.4"
  }
 },
 "nbformat": 4,
 "nbformat_minor": 5
}
