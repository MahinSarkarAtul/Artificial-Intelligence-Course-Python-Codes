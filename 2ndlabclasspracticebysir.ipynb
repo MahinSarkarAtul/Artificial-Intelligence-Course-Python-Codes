{
 "cells": [
  {
   "cell_type": "code",
   "execution_count": 3,
   "id": "81e6093d-b18a-4340-a023-41f2eeb2d051",
   "metadata": {},
   "outputs": [
    {
     "name": "stdin",
     "output_type": "stream",
     "text": [
      "Give your age 18\n"
     ]
    },
    {
     "name": "stdout",
     "output_type": "stream",
     "text": [
      "Adult\n"
     ]
    }
   ],
   "source": [
    "age=int(input(\"Give your age\"))\n",
    "#age=18\n",
    "if age>=18:\n",
    "    print(\"Adult\")\n",
    "else:\n",
    "    print(\"Not adult\")"
   ]
  },
  {
   "cell_type": "code",
   "execution_count": 8,
   "id": "abf339ba-bce7-4d87-88bc-a418cab48ff3",
   "metadata": {},
   "outputs": [
    {
     "name": "stdout",
     "output_type": "stream",
     "text": [
      "A+\n"
     ]
    }
   ],
   "source": [
    "mark=100\n",
    "if mark>=90 and mark<=100:\n",
    "    print(\"A+\")\n",
    "elif mark>=85 and mark<90:\n",
    "    print(\"A\")\n",
    "else:\n",
    "    print(\"B+\")"
   ]
  },
  {
   "cell_type": "code",
   "execution_count": 9,
   "id": "7756947b-7c93-48bc-a5f5-d42129c1aa66",
   "metadata": {},
   "outputs": [
    {
     "name": "stdin",
     "output_type": "stream",
     "text": [
      "Please enter 1st number : 3\n",
      "Please enter 2nd number : 2\n"
     ]
    },
    {
     "name": "stdout",
     "output_type": "stream",
     "text": [
      "5\n"
     ]
    }
   ],
   "source": [
    "a=int(input(\"Please enter 1st number :\"))\n",
    "b=int(input(\"Please enter 2nd number :\"))\n",
    "sum=a+b\n",
    "print(sum)"
   ]
  },
  {
   "cell_type": "code",
   "execution_count": 11,
   "id": "2d4fde7a-6116-4814-a1e1-9dcdc7ab3977",
   "metadata": {},
   "outputs": [
    {
     "name": "stdout",
     "output_type": "stream",
     "text": [
      "0 1 2 3 4 5 6 7 8 9 10 "
     ]
    }
   ],
   "source": [
    "# range\n",
    "for i in range(11):\n",
    "    print(i,end=\" \")"
   ]
  },
  {
   "cell_type": "code",
   "execution_count": 12,
   "id": "fdbeddd9-427d-408e-8b3d-98d75ecb11c7",
   "metadata": {},
   "outputs": [
    {
     "name": "stdout",
     "output_type": "stream",
     "text": [
      "3\n",
      "4\n",
      "5\n",
      "6\n",
      "7\n",
      "8\n",
      "9\n"
     ]
    }
   ],
   "source": [
    "for i in range(3,10):\n",
    "    print(i)"
   ]
  },
  {
   "cell_type": "code",
   "execution_count": 13,
   "id": "93a7e625-3694-462a-8010-ea1d7fbad1ad",
   "metadata": {},
   "outputs": [
    {
     "name": "stdout",
     "output_type": "stream",
     "text": [
      "3\n",
      "5\n",
      "7\n",
      "9\n"
     ]
    }
   ],
   "source": [
    "for i in range(3,10,2):\n",
    "    print(i)"
   ]
  },
  {
   "cell_type": "code",
   "execution_count": 15,
   "id": "106a685a-af69-4fe9-958b-9a687b255bda",
   "metadata": {},
   "outputs": [
    {
     "name": "stdout",
     "output_type": "stream",
     "text": [
      "10 8 6 4 "
     ]
    }
   ],
   "source": [
    "for i in range(10,2,-2):\n",
    "    print(i,end=\" \")"
   ]
  },
  {
   "cell_type": "code",
   "execution_count": 20,
   "id": "c877dae0-9618-4179-bb6b-257533ad8409",
   "metadata": {},
   "outputs": [
    {
     "name": "stdout",
     "output_type": "stream",
     "text": [
      "g\n",
      "o\n",
      "o\n",
      "k\n",
      "s\n",
      "Out of for loop\n",
      "\n"
     ]
    }
   ],
   "source": [
    "#break\n",
    "s = 'gooksforgeeks'\n",
    "# Using for loop\n",
    "for letter in s:\n",
    "\n",
    "    print(letter)\n",
    "    # break the loop as soon it sees 'e'\n",
    "    # or 's'\n",
    "    if letter == 'e' or letter == 's':\n",
    "       # print(letter)\n",
    "        break #condition meet and out of it\n",
    "\n",
    "print(\"Out of for loop\")\n",
    "print()"
   ]
  },
  {
   "cell_type": "code",
   "execution_count": 24,
   "id": "4d2e6783-fdce-4f92-bb6f-332696455fae",
   "metadata": {},
   "outputs": [
    {
     "name": "stdout",
     "output_type": "stream",
     "text": [
      "1 2 3 4 "
     ]
    }
   ],
   "source": [
    "for i in range(1,11):\n",
    "  if i>=5:\n",
    "    break # true then break and continue then continue\n",
    "  print(i,end=\" \")\n"
   ]
  },
  {
   "cell_type": "code",
   "execution_count": 25,
   "id": "c9a23403-6a2b-4d56-88cd-f6b78c8d86f6",
   "metadata": {},
   "outputs": [
    {
     "name": "stdout",
     "output_type": "stream",
     "text": [
      "3   2\n",
      "4   2\n",
      "4   3\n"
     ]
    }
   ],
   "source": [
    "# Python program to demonstrate\n",
    "# break statement with nested\n",
    "# for loop\n",
    "\n",
    "# first for loop\n",
    "for i in range(1, 5):\n",
    "  \n",
    "    # second for loop\n",
    "    for j in range(2, 6):\n",
    "      \n",
    "        # break the loop if\n",
    "        # j is divisible by i\n",
    "        if j%i == 0:\n",
    "            break\n",
    "            \n",
    "        print(i, \" \", j)\n"
   ]
  },
  {
   "cell_type": "code",
   "execution_count": 27,
   "id": "509771fc-c226-4388-ad7d-7c727efeeab6",
   "metadata": {},
   "outputs": [
    {
     "name": "stdout",
     "output_type": "stream",
     "text": [
      "1 2 3 4 5 7 8 9 10 "
     ]
    }
   ],
   "source": [
    "# continue for particular part means itetion\n",
    "# Python program to\n",
    "# demonstrate continue\n",
    "# statement\n",
    "\n",
    "# loop from 1 to 10\n",
    "for i in range(1, 11):\n",
    "\n",
    "    # If i is equals to 6,\n",
    "    # continue to next iteration\n",
    "    # without printing\n",
    "    if i == 6: # only true condition will be skip and will check all the conditions\n",
    "        continue\n",
    "    else:\n",
    "        # otherwise print the value\n",
    "        # of i\n",
    "        print(i, end = \" \")"
   ]
  },
  {
   "cell_type": "code",
   "execution_count": 28,
   "id": "660172ed-1954-4f92-bb82-135729b282f4",
   "metadata": {},
   "outputs": [
    {
     "name": "stdout",
     "output_type": "stream",
     "text": [
      "1 2 3 4 5 "
     ]
    }
   ],
   "source": [
    "# continue for particular part means itetion\n",
    "# Python program to\n",
    "# demonstrate continue\n",
    "# statement\n",
    "\n",
    "# loop from 1 to 10\n",
    "for i in range(1, 11):\n",
    "\n",
    "    # If i is equals to 6,\n",
    "    # continue to next iteration\n",
    "    # without printing\n",
    "    if i == 6: # only true condition will be skip and will check all the conditions\n",
    "        break\n",
    "    else:\n",
    "        # otherwise print the value\n",
    "        # of i\n",
    "        print(i, end = \" \")"
   ]
  },
  {
   "cell_type": "code",
   "execution_count": 35,
   "id": "9418a58e-00ff-478f-a1c8-7d8e307d0eb4",
   "metadata": {},
   "outputs": [
    {
     "name": "stdout",
     "output_type": "stream",
     "text": [
      "1 2 3 4 5 6 7 8 9 10 \n",
      "\n",
      "1 2 3 4 5 6 7 8 9 10 12 "
     ]
    }
   ],
   "source": [
    "for i in range(12):#out of loop\n",
    "    if i==10:\n",
    "        break\n",
    "    print(i+1,end=\" \")\n",
    "print(\"\\n\")\n",
    "for i in range(12):\n",
    "    if i==10:\n",
    "        continue #out of particular iteration\n",
    "    print(i+1,end=\" \")"
   ]
  },
  {
   "cell_type": "code",
   "execution_count": 43,
   "id": "7bcbad6a-0737-407c-98eb-2f5552729a11",
   "metadata": {},
   "outputs": [
    {
     "name": "stdout",
     "output_type": "stream",
     "text": [
      "[1, 2, 4, 3, 5]\n",
      "[5, 3, 4, 2, 1]\n",
      "[1, 2, 3, 4, 5]\n",
      "[5, 4, 3, 2, 1]\n"
     ]
    },
    {
     "data": {
      "text/plain": [
       "2"
      ]
     },
     "execution_count": 43,
     "metadata": {},
     "output_type": "execute_result"
    }
   ],
   "source": [
    "list=[1,2,4,3]\n",
    "list.append(5)\n",
    "print(list)\n",
    "\n",
    "list.reverse()\n",
    "print(list)\n",
    "\n",
    "list.sort()\n",
    "print(list)\n",
    "\n",
    "list.sort(reverse=True)\n",
    "print(list)\n",
    "\n",
    "list1=[1,2,3,4,1,5,6,3]\n",
    "list1.count(1)\n"
   ]
  },
  {
   "cell_type": "code",
   "execution_count": 47,
   "id": "77f26c48-c9e5-478d-a9e0-320bf20d926b",
   "metadata": {},
   "outputs": [
    {
     "name": "stdout",
     "output_type": "stream",
     "text": [
      "[3, 6, 5, 1, 4, 3, 2, 1]\n",
      "[1, 1, 2, 3, 3, 4, 5, 6]\n",
      "[6, 5, 4, 3, 3, 2, 1, 1]\n",
      "6\n"
     ]
    }
   ],
   "source": [
    "list1=[1,2,3,4,1,5,6,3]\n",
    "list1.reverse()\n",
    "print(list1)\n",
    "list1.sort()\n",
    "print(list1)\n",
    "list1.sort(reverse=True)\n",
    "print(list1)\n",
    "print(list1[0])"
   ]
  },
  {
   "cell_type": "code",
   "execution_count": 50,
   "id": "a3bc6e51-99d6-48ce-88fc-b2e0031487b6",
   "metadata": {},
   "outputs": [
    {
     "name": "stdout",
     "output_type": "stream",
     "text": [
      "8\n",
      "2\n",
      "1 2 3 4 1 5 6 3 \n",
      "[3, 4, 1, 5, 6, 3]\n",
      "[3, 4, 1]\n",
      "[1, 2, 3, 4, 1]\n"
     ]
    }
   ],
   "source": [
    "list1=[1,2,3,4,1,5,6,3]\n",
    "print(len(list1))\n",
    "print(list1[1])\n",
    "for i in range(len(list1)):\n",
    "  print(list1[i], end=\" \")\n",
    "print()\n",
    "list1=[1,2,3,4,1,5,6,3]\n",
    "print(list1[2:])\n",
    "\n",
    "list1=[1,2,3,4,1,5,6,3]\n",
    "print(list1[2:5])\n",
    "\n",
    "list1=[1,2,3,4,1,5,6,3]\n",
    "print(list1[:5])\n"
   ]
  },
  {
   "cell_type": "code",
   "execution_count": 51,
   "id": "f17c5ecc-d035-4e7c-902c-91aa9d83565d",
   "metadata": {},
   "outputs": [
    {
     "name": "stdout",
     "output_type": "stream",
     "text": [
      "10\n",
      "10\n",
      "20\n",
      "30\n"
     ]
    }
   ],
   "source": [
    "#tuple\n",
    "\n",
    "# tuple in python\n",
    "t=(10,20,30)\n",
    "print(t[0])\n",
    "\n",
    "t=(10,20,30)\n",
    "for i in range(len(t)):\n",
    "  print(t[i])\n"
   ]
  },
  {
   "cell_type": "code",
   "execution_count": 68,
   "id": "8f769562-5e94-4901-b49d-8795a4cd17e6",
   "metadata": {},
   "outputs": [
    {
     "name": "stdout",
     "output_type": "stream",
     "text": [
      "2\n",
      "4\n",
      "1 2 3 4 \n",
      "5 6 7 8 \n",
      "\n",
      "2\n",
      "4\n",
      "[1, 2, 3, 4]\n",
      "[5, 6, 7, 8]\n"
     ]
    }
   ],
   "source": [
    "# matrix or 2D array means list of list\n",
    "m=[\n",
    "    [1,2,3,4],\n",
    "    [5,6,7,8]\n",
    "]\n",
    "print(len(m)) # return row number\n",
    "print(len(m[0]))# return column number\n",
    "for i in range(len(m)):\n",
    "    for j in range(len(m[0])):\n",
    "        print(m[i][j],end=\" \")\n",
    "    print()\n",
    "\n",
    "print()\n",
    "#####\n",
    "row=len(m)\n",
    "column=len(m[0])\n",
    "print(row)\n",
    "print(column)\n",
    "############\n",
    "for i in m:\n",
    "    print(i)"
   ]
  },
  {
   "cell_type": "code",
   "execution_count": 67,
   "id": "516a86e1-3a09-4907-a0ed-7809e1f6d864",
   "metadata": {},
   "outputs": [
    {
     "name": "stdout",
     "output_type": "stream",
     "text": [
      "[[0, 0], [0, 0], [0, 0], [0, 0]]\n",
      "[0, 0]\n",
      "[0, 0]\n",
      "[0, 0]\n",
      "[0, 0]\n"
     ]
    }
   ],
   "source": [
    "row=4\n",
    "column=2\n",
    "m=[]\n",
    "for i in range(row):\n",
    "  c=[]\n",
    "  for j in range(column):\n",
    "    c.append(0)\n",
    "\n",
    "  m.append(c)\n",
    "\n",
    "print(m)\n",
    "for i in m:\n",
    "  print(i)\n"
   ]
  },
  {
   "cell_type": "code",
   "execution_count": 69,
   "id": "35673aeb-a424-40b7-bf50-d81b7a3d4a6b",
   "metadata": {},
   "outputs": [
    {
     "name": "stdin",
     "output_type": "stream",
     "text": [
      "row 2\n",
      "column 2\n",
      "data 1\n",
      "data 2\n",
      "data 3\n",
      "data 4\n"
     ]
    },
    {
     "name": "stdout",
     "output_type": "stream",
     "text": [
      "[1, 2]\n",
      "[3, 4]\n"
     ]
    }
   ],
   "source": [
    "#2d user input\n",
    "\n",
    "row=int(input(\"row\"))\n",
    "column=int(input(\"column\"))\n",
    "m=[]\n",
    "for i in range(row):\n",
    "  c=[]\n",
    "  for j in range(column):\n",
    "    value=int(input(\"data\"))\n",
    "    c.append(value)\n",
    "\n",
    "  m.append(c)\n",
    "\n",
    "for i in m:\n",
    "  print(i)\n"
   ]
  },
  {
   "cell_type": "code",
   "execution_count": 72,
   "id": "1fb62e66-766a-4edf-b5e6-be21974034ca",
   "metadata": {},
   "outputs": [
    {
     "name": "stdout",
     "output_type": "stream",
     "text": [
      "[1, 0, 0, 0]\n",
      "[0, 1, 0, 0]\n",
      "[0, 0, 1, 0]\n",
      "[0, 0, 0, 1]\n"
     ]
    }
   ],
   "source": [
    "# identiy matrix\n",
    "row = 4\n",
    "column = 4\n",
    "m = []\n",
    "\n",
    "for i in range(row):\n",
    "  c = []\n",
    "  for j in range(column):\n",
    "    if i == j:\n",
    "      c.append(1) # Place 1 on the diagonal\n",
    "    else:\n",
    "      c.append(0) # Place 0 elsewhere\n",
    "  m.append(c)\n",
    "for i in m:\n",
    "    print(i)"
   ]
  },
  {
   "cell_type": "code",
   "execution_count": 73,
   "id": "96d29075-ae79-4b65-a960-0e52dc8618fe",
   "metadata": {},
   "outputs": [
    {
     "name": "stdout",
     "output_type": "stream",
     "text": [
      "64 89 66 27 74 91 54 24 44 93 47 33 30 20 73 9 51 97 96 7 67 67 19 31 92 88 90 88 24 29 5 88 16 22 26 89 53 77 44 17 16 13 37 47 6 18 81 1 86 5 13 95 38 93 82 6 55 6 61 9 61 91 79 13 42 15 99 8 83 62 92 16 66 23 28 84 74 67 33 33 18 58 88 60 25 14 52 71 49 76 22 58 32 14 47 29 60 47 66 50 "
     ]
    }
   ],
   "source": [
    "#random 3 methods\n",
    "import random\n",
    "for i in range(100):\n",
    "  print(random.randint(1,100), end=\" \" )"
   ]
  },
  {
   "cell_type": "code",
   "execution_count": 76,
   "id": "aadd01ee-fdfa-4d7f-b958-e5befb15c6b7",
   "metadata": {},
   "outputs": [
    {
     "name": "stdout",
     "output_type": "stream",
     "text": [
      "[4, 33, 84, 1, 29, 15, 41, 59, 70, 41, 97, 24, 94, 40, 39, 34, 21, 24, 51, 63, 20, 75, 84, 92, 68, 63, 77, 90, 98, 38, 68, 4, 14, 97, 47, 27, 47, 47, 84, 27, 10, 96, 56, 22, 34, 20, 21, 10, 15, 29, 45, 18, 33, 35, 91, 3, 31, 53, 78, 18, 83, 4, 69, 25, 15, 51, 31, 83, 35, 47, 3, 47, 79, 79, 26, 39, 75, 34, 65, 84, 19, 18, 59, 13, 66, 88, 15, 66, 100, 45, 4, 41, 86, 10, 28, 84, 22, 12, 11, 82]\n"
     ]
    },
    {
     "data": {
      "text/plain": [
       "100"
      ]
     },
     "execution_count": 76,
     "metadata": {},
     "output_type": "execute_result"
    }
   ],
   "source": [
    "import random\n",
    "random_numbers = []  # Create an empty list to store the values\n",
    "for i in range(100):\n",
    "  random_numbers.append(random.randint(1, 100))\n",
    "\n",
    "print(random_numbers)\n",
    "len(random_numbers)"
   ]
  },
  {
   "cell_type": "code",
   "execution_count": 81,
   "id": "9c38c726-1430-47a9-aa3d-90ba3179541c",
   "metadata": {},
   "outputs": [
    {
     "name": "stdout",
     "output_type": "stream",
     "text": [
      "3\n"
     ]
    }
   ],
   "source": [
    "# choice choose any one and every time it changes\n",
    "dice=[1,2,3,4,5,6]\n",
    "throughDice=random.choice(dice)\n",
    "print(throughDice)\n"
   ]
  },
  {
   "cell_type": "code",
   "execution_count": 85,
   "id": "b3e306d2-77af-4a73-a928-7e83f00e826a",
   "metadata": {},
   "outputs": [
    {
     "name": "stdout",
     "output_type": "stream",
     "text": [
      "[3, 4, 3, 5, 3, 6, 4, 3, 1, 5, 3, 6, 3, 2, 4, 4, 6, 2, 2, 1, 1, 2, 4, 2, 5, 6, 5, 4, 3, 6, 2, 5, 5, 3, 1, 4, 4, 3, 4, 6, 5, 4, 3, 3, 3, 4, 2, 4, 3, 6, 4, 5, 6, 6, 4, 5, 6, 3, 1, 2, 4, 5, 4, 5, 1, 5, 3, 1, 4, 5, 6, 6, 5, 6, 6, 2, 2, 3, 4, 3, 2, 1, 5, 3, 3, 5, 2, 3, 4, 5, 4, 2, 2, 4, 1, 2, 2, 2, 5, 3] \n",
      "1 5 6 4 3 6 4 2 1 6 5 2 5 5 6 5 6 2 3 4 1 1 3 6 2 6 5 5 1 6 6 2 3 6 3 6 6 3 3 4 5 6 1 1 3 2 6 6 5 5 1 6 2 4 6 5 4 6 4 6 6 4 5 3 3 5 4 5 2 2 2 6 4 4 4 5 1 6 6 5 6 3 4 2 3 3 6 4 3 2 3 4 5 4 6 5 2 2 5 2 "
     ]
    }
   ],
   "source": [
    "dice=[1,2,3,4,5,6]\n",
    "storelist=[]\n",
    "for i in range(100):\n",
    "  storelist.append(random.choice(dice))\n",
    "print(storelist,end=\" \" )\n",
    "\n",
    "print()\n",
    "dice=[1,2,3,4,5,6]\n",
    "for i in range(100):\n",
    "  throughDice=random.choice(dice)\n",
    "  print(throughDice,end=\" \" )\n"
   ]
  },
  {
   "cell_type": "code",
   "execution_count": 89,
   "id": "0d4610c6-6850-42ff-94a6-8ee3851a7244",
   "metadata": {},
   "outputs": [
    {
     "name": "stdout",
     "output_type": "stream",
     "text": [
      "TCAGAAATACGATACAACATTGCCCCGTGACCGCACTGGCTGTTATCTGACTCTGGAATAAGGAACTACAGCAGCCCTAGACACCGTCTTCAAGGACCAA\n",
      "100\n"
     ]
    }
   ],
   "source": [
    "#dna sequence create\n",
    "c=['A','C','G','T']\n",
    "dna=''\n",
    "for i in range(100):\n",
    "    dna=dna+random.choice(c)\n",
    "\n",
    "print(dna)\n",
    "print(len(dna))"
   ]
  },
  {
   "cell_type": "code",
   "execution_count": 90,
   "id": "5c2c4747-cc16-407c-bb2a-18c1ee1b3aba",
   "metadata": {},
   "outputs": [
    {
     "name": "stdout",
     "output_type": "stream",
     "text": [
      "['T', 'T', 'C', 'T', 'T', 'G', 'T', 'T', 'A', 'C', 'T', 'C', 'T', 'C', 'G', 'T', 'G', 'C', 'G', 'T', 'T', 'T', 'T', 'G', 'T', 'G', 'G', 'A', 'A', 'G', 'A', 'T', 'A', 'T', 'A', 'T', 'G', 'T', 'G', 'G', 'G', 'A', 'C', 'C', 'T', 'T', 'A', 'G', 'A', 'G', 'T', 'T', 'G', 'G', 'T', 'C', 'A', 'A', 'G', 'T', 'C', 'T', 'A', 'C', 'G', 'T', 'A', 'C', 'A', 'G', 'A', 'C', 'A', 'T', 'A', 'T', 'C', 'A', 'C', 'A', 'T', 'C', 'C', 'T', 'C', 'C', 'T', 'A', 'A', 'C', 'A', 'A', 'G', 'C', 'T', 'A', 'A', 'A', 'G', 'A']\n"
     ]
    },
    {
     "data": {
      "text/plain": [
       "27"
      ]
     },
     "execution_count": 90,
     "metadata": {},
     "output_type": "execute_result"
    }
   ],
   "source": [
    "ch=['A','C','G','T']\n",
    "dna=[]\n",
    "for i in range(100):\n",
    "  dna.append(random.choice(ch))\n",
    "\n",
    "print(dna)\n",
    "dna.count(\"A\")\n"
   ]
  },
  {
   "cell_type": "code",
   "execution_count": 91,
   "id": "c57b76a3-dcd7-43e9-a0ff-c66d27b782bb",
   "metadata": {},
   "outputs": [
    {
     "name": "stdout",
     "output_type": "stream",
     "text": [
      "{'A': 23, 'C': 25, 'G': 23, 'T': 29}\n"
     ]
    }
   ],
   "source": [
    "# konta kota ber ase oita ber kora\n",
    "ch=['A','C','G','T']\n",
    "dna=[]\n",
    "for i in range(100):\n",
    "  dna.append(random.choice(ch))\n",
    "\n",
    "dna_count={} #dic key:value\n",
    "for i in range(len(ch)):\n",
    "  dna_count[ch[i]]=dna.count(ch[i])\n",
    "\n",
    "print(dna_count)\n"
   ]
  },
  {
   "cell_type": "code",
   "execution_count": 92,
   "id": "0631d33e-3d27-4f90-8aec-a76c076c1c4e",
   "metadata": {},
   "outputs": [
    {
     "name": "stdout",
     "output_type": "stream",
     "text": [
      "[3, 6, 4, 1, 3, 4, 2, 4, 1, 2, 1, 7, 3, 4, 3, 5, 6, 6, 1, 2, 1, 1, 7, 4, 3, 2, 4, 1, 3, 6, 7, 5, 1, 2, 5, 2, 1, 5, 5, 2, 3, 6, 6, 7, 4, 1, 3, 3, 7, 7, 5, 6, 1, 4, 6, 3, 6, 6, 3, 5, 7, 4, 4, 1, 3, 1, 7, 2, 1, 2, 6, 1, 7, 7, 4, 7, 2, 4, 4, 4, 6, 4, 6, 2, 3, 3, 3, 3, 5, 4, 6, 5, 6, 2, 6, 2, 3, 7, 6, 7]\n"
     ]
    }
   ],
   "source": [
    "dice=[]\n",
    "for i in range(100):\n",
    "  dice.append(random.randint(1,7))\n",
    "print(dice)\n"
   ]
  },
  {
   "cell_type": "code",
   "execution_count": 98,
   "id": "b5eb9061-09eb-46c4-82bd-0b4198c23b39",
   "metadata": {},
   "outputs": [
    {
     "name": "stdout",
     "output_type": "stream",
     "text": [
      "None\n"
     ]
    }
   ],
   "source": [
    "#function\n",
    "def f(x):\n",
    "        x*2\n",
    "\n",
    "number=10\n",
    "print(f(number))\n"
   ]
  },
  {
   "cell_type": "code",
   "execution_count": 99,
   "id": "b5da0e86-fcf8-41c4-8336-7ed6df0653ec",
   "metadata": {},
   "outputs": [
    {
     "name": "stdout",
     "output_type": "stream",
     "text": [
      "None\n"
     ]
    }
   ],
   "source": [
    "def f(x):\n",
    "    x * 2  # No return statement\n",
    "\n",
    "number = 10\n",
    "print(f(number))"
   ]
  },
  {
   "cell_type": "code",
   "execution_count": 100,
   "id": "00585c20-fc2d-40fa-8834-5ccff32a75e9",
   "metadata": {},
   "outputs": [
    {
     "name": "stdout",
     "output_type": "stream",
     "text": [
      "30\n",
      "-10\n",
      "210\n",
      "-190\n"
     ]
    }
   ],
   "source": [
    "# double return from one function advantage\n",
    "def f1(x,y):\n",
    "  return x+y, x-y\n",
    "\n",
    "add, sub=f1(10,20)\n",
    "print(add)\n",
    "print(sub)\n",
    "\n",
    "# advantage\n",
    "def f1(x=100,y=200):# default  advantge\n",
    "  return x+y, x-y\n",
    "\n",
    "add, sub=f1(10) # can pass anyone or one \n",
    "print(add)\n",
    "print(sub)\n"
   ]
  },
  {
   "cell_type": "code",
   "execution_count": null,
   "id": "553557b8-70b1-4599-a2f6-aeeb3c63a8c8",
   "metadata": {},
   "outputs": [],
   "source": []
  }
 ],
 "metadata": {
  "kernelspec": {
   "display_name": "Python 3 (ipykernel)",
   "language": "python",
   "name": "python3"
  },
  "language_info": {
   "codemirror_mode": {
    "name": "ipython",
    "version": 3
   },
   "file_extension": ".py",
   "mimetype": "text/x-python",
   "name": "python",
   "nbconvert_exporter": "python",
   "pygments_lexer": "ipython3",
   "version": "3.12.4"
  }
 },
 "nbformat": 4,
 "nbformat_minor": 5
}
