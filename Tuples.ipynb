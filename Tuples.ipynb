{
 "cells": [
  {
   "cell_type": "code",
   "execution_count": 1,
   "id": "752bf2ff-8a87-4814-9e4f-d19188ae4585",
   "metadata": {},
   "outputs": [],
   "source": [
    "# Tuples can also store multiple data types but its value can not be changed and in first brackets ()\n",
    "#Tuple items are ordered, unchangeable, and allow duplicate values."
   ]
  },
  {
   "cell_type": "code",
   "execution_count": 5,
   "id": "6e034538-c2f5-421b-9cb2-c88601ac3595",
   "metadata": {},
   "outputs": [
    {
     "name": "stdout",
     "output_type": "stream",
     "text": [
      "('Mahin', 'Sarkar', 'Atul')\n",
      "Mahin Sarkar Atul "
     ]
    }
   ],
   "source": [
    "name=(\"Mahin\",\"Sarkar\",\"Atul\")\n",
    "print(name)\n",
    "for i in name:\n",
    "    print(i, end=\" \")"
   ]
  },
  {
   "cell_type": "code",
   "execution_count": 6,
   "id": "f57eb289-e25b-4dff-b556-2659585cc6c9",
   "metadata": {},
   "outputs": [
    {
     "name": "stdout",
     "output_type": "stream",
     "text": [
      "Mahin\n"
     ]
    }
   ],
   "source": [
    "#access tuple\n",
    "name=(\"Mahin\",\"Sarkar\",\"Atul\")\n",
    "print(name[0])"
   ]
  },
  {
   "cell_type": "code",
   "execution_count": null,
   "id": "f4c09d71-9cb2-4458-bc0b-77484386c139",
   "metadata": {},
   "outputs": [],
   "source": []
  }
 ],
 "metadata": {
  "kernelspec": {
   "display_name": "Python 3 (ipykernel)",
   "language": "python",
   "name": "python3"
  },
  "language_info": {
   "codemirror_mode": {
    "name": "ipython",
    "version": 3
   },
   "file_extension": ".py",
   "mimetype": "text/x-python",
   "name": "python",
   "nbconvert_exporter": "python",
   "pygments_lexer": "ipython3",
   "version": "3.12.4"
  }
 },
 "nbformat": 4,
 "nbformat_minor": 5
}
