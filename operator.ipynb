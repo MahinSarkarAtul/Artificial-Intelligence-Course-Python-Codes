{
 "cells": [
  {
   "cell_type": "code",
   "execution_count": 11,
   "id": "dca5471c-42a6-47bb-b757-ac7516a807de",
   "metadata": {},
   "outputs": [
    {
     "name": "stdin",
     "output_type": "stream",
     "text": [
      "1st number is 2\n",
      "2nd number is  3\n"
     ]
    },
    {
     "name": "stdout",
     "output_type": "stream",
     "text": [
      "Answer is 5\n",
      "Answer is 5\n"
     ]
    }
   ],
   "source": [
    "#user input\n",
    "x=int(input(\"1st number is\"))\n",
    "y=int(input(\"2nd number is \"))\n",
    "z=x+y\n",
    "print(\"Answer is \"+str(z))\n",
    "print(f\"Answer is {x+y}\")"
   ]
  },
  {
   "cell_type": "code",
   "execution_count": 18,
   "id": "8f4034cb-c001-4eaf-96a9-af88d361b4aa",
   "metadata": {},
   "outputs": [
    {
     "name": "stdout",
     "output_type": "stream",
     "text": [
      "2\n",
      "2.5\n",
      "2\n"
     ]
    }
   ],
   "source": [
    "#division floor and standard\n",
    "x=5\n",
    "y=2\n",
    "w=int(x/y)#casting\n",
    "o=x/y\n",
    "z=x//y# floor division\n",
    "print(w)\n",
    "print(o)\n",
    "print(z)"
   ]
  },
  {
   "cell_type": "code",
   "execution_count": 22,
   "id": "837fc48f-c169-4036-8e1c-399db2aa7a33",
   "metadata": {},
   "outputs": [
    {
     "name": "stdout",
     "output_type": "stream",
     "text": [
      "1\n",
      "8\n"
     ]
    }
   ],
   "source": [
    "print(5%2)# modulus\n",
    "x=2\n",
    "y=3\n",
    "print(x**y)# exponential or power"
   ]
  },
  {
   "cell_type": "code",
   "execution_count": null,
   "id": "5728609e-33f9-4fa7-8dfb-62666db239c9",
   "metadata": {},
   "outputs": [],
   "source": [
    "list"
   ]
  }
 ],
 "metadata": {
  "kernelspec": {
   "display_name": "Python 3 (ipykernel)",
   "language": "python",
   "name": "python3"
  },
  "language_info": {
   "codemirror_mode": {
    "name": "ipython",
    "version": 3
   },
   "file_extension": ".py",
   "mimetype": "text/x-python",
   "name": "python",
   "nbconvert_exporter": "python",
   "pygments_lexer": "ipython3",
   "version": "3.12.4"
  }
 },
 "nbformat": 4,
 "nbformat_minor": 5
}
