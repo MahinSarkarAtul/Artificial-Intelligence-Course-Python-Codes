{
 "cells": [
  {
   "cell_type": "code",
   "execution_count": 1,
   "id": "e90a77a4-f712-460a-ae27-394114b95076",
   "metadata": {},
   "outputs": [
    {
     "name": "stdout",
     "output_type": "stream",
     "text": [
      "My name is Atul\n"
     ]
    }
   ],
   "source": [
    "print(\"My name is Atul\")"
   ]
  },
  {
   "cell_type": "code",
   "execution_count": 18,
   "id": "c4d3a484-2000-40a7-b35d-6193a2f4b0d8",
   "metadata": {},
   "outputs": [
    {
     "name": "stdout",
     "output_type": "stream",
     "text": [
      "Hello world\n",
      "Hello my\n"
     ]
    }
   ],
   "source": [
    "if 5>2:\n",
    "    print(\"Hello world\")\n",
    "if 4>2:\n",
    "         print(\"Hello my\") #for same block the number of space must be followed"
   ]
  },
  {
   "cell_type": "code",
   "execution_count": 42,
   "id": "21746cb6-588a-4cf8-95c7-01de77935e29",
   "metadata": {},
   "outputs": [
    {
     "name": "stdout",
     "output_type": "stream",
     "text": [
      "5\n",
      "<class 'int'>\n",
      "type changed\n",
      "<class 'str'>\n",
      "<class 'str'>\n",
      "<class 'int'>\n",
      "<class 'float'>\n"
     ]
    }
   ],
   "source": [
    "#int x=5 we can not initially give the type of a variable that means we can not declate it\n",
    "x=5\n",
    "print(x)\n",
    "print(type(x))\n",
    "x=\"type changed\"\n",
    "print(x)\n",
    "print(type(x))\n",
    "# we cahange the value its type also changes\n",
    "\n",
    "#casting\n",
    "x=str(3)\n",
    "print(type(x))\n",
    "g=int(3)\n",
    "print(type(g))\n",
    "h=float(3)\n",
    "h=print(type(h))"
   ]
  },
  {
   "cell_type": "code",
   "execution_count": 26,
   "id": "97918ea0-6d31-406c-9612-67832feb8d53",
   "metadata": {},
   "outputs": [
    {
     "name": "stdout",
     "output_type": "stream",
     "text": [
      "<class 'str'>\n",
      "<class 'str'>\n"
     ]
    }
   ],
   "source": [
    "#There is no concept of character in Python and we can store in \" \" or ' ' are the same\n",
    "b=\"Hi my name is Mahin\"\n",
    "print(type(b))\n",
    "a='H'\n",
    "print(type(a))"
   ]
  },
  {
   "cell_type": "code",
   "execution_count": 35,
   "id": "03e5988b-0149-4bad-8dd9-3faa2d6c0d62",
   "metadata": {},
   "outputs": [
    {
     "name": "stdout",
     "output_type": "stream",
     "text": [
      "3\n",
      "3.3\n"
     ]
    }
   ],
   "source": [
    "# case sensitive a and A is not same\n",
    "a=3\n",
    "print(a)\n",
    "A=3.3\n",
    "print (A)"
   ]
  },
  {
   "cell_type": "code",
   "execution_count": 43,
   "id": "b910f241-fb88-4601-b8c9-3ef5b835ab42",
   "metadata": {},
   "outputs": [],
   "source": [
    "# variable naming\n",
    "#a-a=3 wrong appraoch\n",
    "#2a=2 worng approach\n",
    "# v b=2 wrong approach space in between \n",
    "# $a=3\n",
    "# a$=2\n",
    "myvar = \"John\"\n",
    "my_var = \"John\"\n",
    "_my_var = \"John\"\n",
    "myVar = \"John\"\n",
    "MYVAR = \"John\"\n",
    "myvar2 = \"John\""
   ]
  },
  {
   "cell_type": "code",
   "execution_count": 51,
   "id": "990b4478-3ef0-468b-a2cf-3338b4867e6e",
   "metadata": {},
   "outputs": [
    {
     "name": "stdout",
     "output_type": "stream",
     "text": [
      "Atul\n",
      "3\n",
      "Sarkar\n",
      "Mahin\n",
      "Mahin\n",
      "Mahin\n"
     ]
    }
   ],
   "source": [
    "# assign multiple variable\n",
    "x,y,z=\"Atul\", 3,\"Sarkar\" # we can assign any type of value means different values in different variables\n",
    "print(x)\n",
    "print(y)\n",
    "print(z)\n",
    "# assign same value in different variables\n",
    "x=y=z=\"Mahin\"\n",
    "print(x)\n",
    "print(y)\n",
    "print(z)"
   ]
  },
  {
   "cell_type": "code",
   "execution_count": 55,
   "id": "cac5d35d-d904-4efe-adfd-3979e357b8c8",
   "metadata": {},
   "outputs": [
    {
     "name": "stdout",
     "output_type": "stream",
     "text": [
      "apple\n",
      "banana\n",
      "cherry\n",
      "4\n"
     ]
    }
   ],
   "source": [
    "#If you have a collection of values in a list, tuple etc. Python allows you to extract the values into variables. This is called unpacking.\n",
    "fruits = [\"apple\", \"banana\", \"cherry\",4]\n",
    "x, y, z, r = fruits\n",
    "print(x)\n",
    "print(y)\n",
    "print(z)\n",
    "print(r)"
   ]
  },
  {
   "cell_type": "code",
   "execution_count": null,
   "id": "5677e44f-2b47-4070-b20b-65376ddf06eb",
   "metadata": {},
   "outputs": [],
   "source": [
    "# output variable\n",
    "x=\"My\"\n",
    "y=\"is\"\n",
    "z=\"Atul\"\n",
    "print ()"
   ]
  },
  {
   "cell_type": "code",
   "execution_count": 2,
   "id": "64f01ad0-092a-4e8b-a445-33b8a993e2b4",
   "metadata": {},
   "outputs": [
    {
     "name": "stdout",
     "output_type": "stream",
     "text": [
      "That is my Hi its a global variable\n"
     ]
    }
   ],
   "source": [
    "#Globalo Variables\n",
    "x=\"Hi its a global variable\"\n",
    "def myfunc():\n",
    "    print(\"That is my \"+x)\n",
    "myfunc()"
   ]
  },
  {
   "cell_type": "code",
   "execution_count": 3,
   "id": "eeb27d6e-191d-4f17-a9da-6568e221c75a",
   "metadata": {},
   "outputs": [
    {
     "name": "stdout",
     "output_type": "stream",
     "text": [
      "Python is esay\n",
      "Python is fabulas\n"
     ]
    }
   ],
   "source": [
    "x=\"fabulas\"\n",
    "def myfunc():\n",
    "    x=\"esay\"\n",
    "    print(\"Python is \"+x)  # here x is local \n",
    "myfunc()\n",
    "print(\"Python is \"+x) # here x is global and locally modify can not change it\n"
   ]
  },
  {
   "cell_type": "code",
   "execution_count": 5,
   "id": "d85660e9-9104-494c-87a7-57b0d399d9d1",
   "metadata": {},
   "outputs": [
    {
     "name": "stdout",
     "output_type": "stream",
     "text": [
      "Phython is fabulas\n"
     ]
    }
   ],
   "source": [
    "def myfuncton():\n",
    "    global x   #acts like global\n",
    "    x=\"awsome\"\n",
    "def newfunc():\n",
    "    print(\"Phython is \"+x)   # we can use it another function or out of the scape of the function\n",
    "\n",
    "newfunc()"
   ]
  }
 ],
 "metadata": {
  "kernelspec": {
   "display_name": "Python 3 (ipykernel)",
   "language": "python",
   "name": "python3"
  },
  "language_info": {
   "codemirror_mode": {
    "name": "ipython",
    "version": 3
   },
   "file_extension": ".py",
   "mimetype": "text/x-python",
   "name": "python",
   "nbconvert_exporter": "python",
   "pygments_lexer": "ipython3",
   "version": "3.12.4"
  }
 },
 "nbformat": 4,
 "nbformat_minor": 5
}
